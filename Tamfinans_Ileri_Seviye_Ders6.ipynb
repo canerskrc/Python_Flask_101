{
  "nbformat": 4,
  "nbformat_minor": 0,
  "metadata": {
    "colab": {
      "provenance": [],
      "authorship_tag": "ABX9TyMWBEAVmVTjzIO4CNhEVZM0",
      "include_colab_link": true
    },
    "kernelspec": {
      "name": "python3",
      "display_name": "Python 3"
    },
    "language_info": {
      "name": "python"
    }
  },
  "cells": [
    {
      "cell_type": "markdown",
      "metadata": {
        "id": "view-in-github",
        "colab_type": "text"
      },
      "source": [
        "<a href=\"https://colab.research.google.com/github/canerskrc/Python_Flask_101/blob/main/Tamfinans_Ileri_Seviye_Ders6.ipynb\" target=\"_parent\"><img src=\"https://colab.research.google.com/assets/colab-badge.svg\" alt=\"Open In Colab\"/></a>"
      ]
    },
    {
      "cell_type": "markdown",
      "source": [
        "Veri Soyutlama( OOP ) = Bir işlevin nasıl yapılacağından ziyade ne yapılacağına odaklanmaya yardımcı olur.\n",
        "\n",
        "Kısmi Soyutlama = Soyut sınıf hem soyu hem de somut metotlar içerir.\n",
        "\n",
        "Tam Soyutlama = Soyut sınıflar yalnızca somut metotlar içerir.\n"
      ],
      "metadata": {
        "id": "A9rQyPkLjP84"
      }
    },
    {
      "cell_type": "code",
      "execution_count": null,
      "metadata": {
        "colab": {
          "base_uri": "https://localhost:8080/"
        },
        "id": "yiXCNmZbiD8e",
        "outputId": "30373480-2a86-4ad2-f630-51343c28a023"
      },
      "outputs": [
        {
          "output_type": "stream",
          "name": "stdout",
          "text": [
            "Dog's name: Buddy\n",
            "Labrador woof\n",
            "Dog's name: Kaju\n",
            "Beagle bark\n"
          ]
        }
      ],
      "source": [
        "from abc import ABC, abstractmethod # soyut sınıf ( Abstract base class ) modülü\n",
        "\n",
        "class Dog( ABC):\n",
        "   #abstract(soyut sınıf) class\n",
        "   def __init__(self,name):\n",
        "    self.name = name\n",
        "\n",
        "   @abstractmethod#( alt sınıfların zorunlu olarak impelement etmesi gereken metot.)\n",
        "   def sound(self):\n",
        "     pass #abstract metot\n",
        "\n",
        "   def display_name(self): #somut(concrete) metot.( Alt sınıflar tarafından tekrar yazılması zorunlu olmayan metot.)\n",
        "     print(f\"Dog's name: {self.name}\")\n",
        "\n",
        "class Labrador(Dog):\n",
        "  #Soyut sınıftan türetilmiş somut bir sınıf\n",
        "  def sound(self):\n",
        "    print(\"Labrador woof\")\n",
        "\n",
        "class Beagle(Dog):\n",
        "  def sound(self):\n",
        "    print(\"Beagle bark\") # Beagle sınıfı sound() metodunu kendine göre override eder. bu da runtime polymorphism sağlamış olur.\n",
        "\n",
        "dogs = [Labrador(\"Buddy\"), Beagle(\"Kaju\")]\n",
        "for dog in dogs:\n",
        "  dog.display_name()\n",
        "  dog.sound()"
      ]
    },
    {
      "cell_type": "markdown",
      "source": [
        "# PANDAS & NUMPY"
      ],
      "metadata": {
        "id": "RkvsMOO6pYoA"
      }
    },
    {
      "cell_type": "code",
      "source": [
        "import pandas as pd\n",
        "import numpy as np"
      ],
      "metadata": {
        "id": "sto9GMQtpbEM"
      },
      "execution_count": null,
      "outputs": []
    },
    {
      "cell_type": "code",
      "source": [
        "df = pd.DataFrame()\n",
        "print(df)"
      ],
      "metadata": {
        "colab": {
          "base_uri": "https://localhost:8080/"
        },
        "id": "6sJ4rWM4p0QU",
        "outputId": "f51cfbaf-8e6b-4a9c-a5f4-214f46d9cdbf"
      },
      "execution_count": null,
      "outputs": [
        {
          "output_type": "stream",
          "name": "stdout",
          "text": [
            "Empty DataFrame\n",
            "Columns: []\n",
            "Index: []\n"
          ]
        }
      ]
    },
    {
      "cell_type": "code",
      "source": [
        "liste1 = [\"Caner\",\"Mirayet\",\"Ecem\",\"Alkın\",\"Rıdvan\"]\n",
        "df = pd.DataFrame(liste1)\n",
        "print(df)"
      ],
      "metadata": {
        "colab": {
          "base_uri": "https://localhost:8080/"
        },
        "id": "zChY2jOXp_dF",
        "outputId": "6c225f65-ea2b-4ced-c797-2621553faa3c"
      },
      "execution_count": null,
      "outputs": [
        {
          "output_type": "stream",
          "name": "stdout",
          "text": [
            "         0\n",
            "0    Caner\n",
            "1  Mirayet\n",
            "2     Ecem\n",
            "3    Alkın\n",
            "4   Rıdvan\n"
          ]
        }
      ]
    },
    {
      "cell_type": "code",
      "source": [
        "data= np.array([[1,2,3],[4,5,6],[7,8,9]])\n",
        "df1 = pd.DataFrame(data, columns=[\"X\",\"Y\",\"Z\"],index=[\"A\",\"B\",\"C\"])\n",
        "print(df1)"
      ],
      "metadata": {
        "colab": {
          "base_uri": "https://localhost:8080/"
        },
        "id": "4WHCjdlQqNfN",
        "outputId": "1ecccc50-9d50-4bcf-fa2f-6fac1d590da8"
      },
      "execution_count": null,
      "outputs": [
        {
          "output_type": "stream",
          "name": "stdout",
          "text": [
            "   X  Y  Z\n",
            "A  1  2  3\n",
            "B  4  5  6\n",
            "C  7  8  9\n"
          ]
        }
      ]
    },
    {
      "cell_type": "code",
      "source": [
        "dict={\"name\":[\"Caner\",\"Mirayet\",\"Ecem\",\"Alkın\"],\n",
        "      \"degree\":[\"BCA\",\"MBA\",\"M.Tech\",\"MBA\"],\n",
        "      \"score\":[80,40,60,90]}\n",
        "df2 = pd.DataFrame(dict)\n",
        "print(df2)"
      ],
      "metadata": {
        "colab": {
          "base_uri": "https://localhost:8080/"
        },
        "id": "ZfgSkwMXqunt",
        "outputId": "37b502c4-5dd9-4b16-e472-bf30d95dfe25"
      },
      "execution_count": null,
      "outputs": [
        {
          "output_type": "stream",
          "name": "stdout",
          "text": [
            "      name  degree  score\n",
            "0    Caner     BCA     80\n",
            "1  Mirayet     MBA     40\n",
            "2     Ecem  M.Tech     60\n",
            "3    Alkın     MBA     90\n"
          ]
        }
      ]
    },
    {
      "cell_type": "code",
      "source": [
        "#Veri Seçme İndeksleme\n",
        "\n",
        "data1 = pd.read_csv(\"sensorler.csv\", index_col=\"sag_sensor_z\") #index_col içinde belirtilen sütun adını indeks olarak atar.\n",
        "print(\"Dataset\")\n",
        "display(data1.head())\n",
        "\n",
        "first = data1[[\"date\",\"sag_sensor_x\"]]\n",
        "print(\"\\nDataset içinden tek bir sütun indekslendi.\")\n",
        "display(first.head())"
      ],
      "metadata": {
        "colab": {
          "base_uri": "https://localhost:8080/",
          "height": 509
        },
        "id": "jDUV3qcorJ99",
        "outputId": "6144f02a-4128-4534-81d9-9347d672b14b"
      },
      "execution_count": null,
      "outputs": [
        {
          "output_type": "stream",
          "name": "stdout",
          "text": [
            "Dataset\n"
          ]
        },
        {
          "output_type": "display_data",
          "data": {
            "text/plain": [
              "              sag_sensor_x  sag_sensor_y  sol_sensor_x  sol_sensor_y  \\\n",
              "sag_sensor_z                                                           \n",
              "85.0                  64.0         -85.0          99.0        -143.5   \n",
              "84.5                  56.0         -84.5          98.5        -145.5   \n",
              "83.0                  12.0         -83.0         100.0        -146.0   \n",
              "81.0                  19.5         -81.0          99.5        -145.0   \n",
              "83.0                   9.5         -83.0          99.5        -147.0   \n",
              "\n",
              "              sol_sensor_z                 date  \n",
              "sag_sensor_z                                     \n",
              "85.0                  99.0  2025-04-16 18:45:21  \n",
              "84.5                  98.5  2025-04-16 18:45:22  \n",
              "83.0                 100.0  2025-04-16 18:45:23  \n",
              "81.0                  99.5  2025-04-16 18:45:24  \n",
              "83.0                  99.5  2025-04-16 18:45:25  "
            ],
            "text/html": [
              "\n",
              "  <div id=\"df-23756927-b24f-4cfc-befe-44d40d4be2b4\" class=\"colab-df-container\">\n",
              "    <div>\n",
              "<style scoped>\n",
              "    .dataframe tbody tr th:only-of-type {\n",
              "        vertical-align: middle;\n",
              "    }\n",
              "\n",
              "    .dataframe tbody tr th {\n",
              "        vertical-align: top;\n",
              "    }\n",
              "\n",
              "    .dataframe thead th {\n",
              "        text-align: right;\n",
              "    }\n",
              "</style>\n",
              "<table border=\"1\" class=\"dataframe\">\n",
              "  <thead>\n",
              "    <tr style=\"text-align: right;\">\n",
              "      <th></th>\n",
              "      <th>sag_sensor_x</th>\n",
              "      <th>sag_sensor_y</th>\n",
              "      <th>sol_sensor_x</th>\n",
              "      <th>sol_sensor_y</th>\n",
              "      <th>sol_sensor_z</th>\n",
              "      <th>date</th>\n",
              "    </tr>\n",
              "    <tr>\n",
              "      <th>sag_sensor_z</th>\n",
              "      <th></th>\n",
              "      <th></th>\n",
              "      <th></th>\n",
              "      <th></th>\n",
              "      <th></th>\n",
              "      <th></th>\n",
              "    </tr>\n",
              "  </thead>\n",
              "  <tbody>\n",
              "    <tr>\n",
              "      <th>85.0</th>\n",
              "      <td>64.0</td>\n",
              "      <td>-85.0</td>\n",
              "      <td>99.0</td>\n",
              "      <td>-143.5</td>\n",
              "      <td>99.0</td>\n",
              "      <td>2025-04-16 18:45:21</td>\n",
              "    </tr>\n",
              "    <tr>\n",
              "      <th>84.5</th>\n",
              "      <td>56.0</td>\n",
              "      <td>-84.5</td>\n",
              "      <td>98.5</td>\n",
              "      <td>-145.5</td>\n",
              "      <td>98.5</td>\n",
              "      <td>2025-04-16 18:45:22</td>\n",
              "    </tr>\n",
              "    <tr>\n",
              "      <th>83.0</th>\n",
              "      <td>12.0</td>\n",
              "      <td>-83.0</td>\n",
              "      <td>100.0</td>\n",
              "      <td>-146.0</td>\n",
              "      <td>100.0</td>\n",
              "      <td>2025-04-16 18:45:23</td>\n",
              "    </tr>\n",
              "    <tr>\n",
              "      <th>81.0</th>\n",
              "      <td>19.5</td>\n",
              "      <td>-81.0</td>\n",
              "      <td>99.5</td>\n",
              "      <td>-145.0</td>\n",
              "      <td>99.5</td>\n",
              "      <td>2025-04-16 18:45:24</td>\n",
              "    </tr>\n",
              "    <tr>\n",
              "      <th>83.0</th>\n",
              "      <td>9.5</td>\n",
              "      <td>-83.0</td>\n",
              "      <td>99.5</td>\n",
              "      <td>-147.0</td>\n",
              "      <td>99.5</td>\n",
              "      <td>2025-04-16 18:45:25</td>\n",
              "    </tr>\n",
              "  </tbody>\n",
              "</table>\n",
              "</div>\n",
              "    <div class=\"colab-df-buttons\">\n",
              "\n",
              "  <div class=\"colab-df-container\">\n",
              "    <button class=\"colab-df-convert\" onclick=\"convertToInteractive('df-23756927-b24f-4cfc-befe-44d40d4be2b4')\"\n",
              "            title=\"Convert this dataframe to an interactive table.\"\n",
              "            style=\"display:none;\">\n",
              "\n",
              "  <svg xmlns=\"http://www.w3.org/2000/svg\" height=\"24px\" viewBox=\"0 -960 960 960\">\n",
              "    <path d=\"M120-120v-720h720v720H120Zm60-500h600v-160H180v160Zm220 220h160v-160H400v160Zm0 220h160v-160H400v160ZM180-400h160v-160H180v160Zm440 0h160v-160H620v160ZM180-180h160v-160H180v160Zm440 0h160v-160H620v160Z\"/>\n",
              "  </svg>\n",
              "    </button>\n",
              "\n",
              "  <style>\n",
              "    .colab-df-container {\n",
              "      display:flex;\n",
              "      gap: 12px;\n",
              "    }\n",
              "\n",
              "    .colab-df-convert {\n",
              "      background-color: #E8F0FE;\n",
              "      border: none;\n",
              "      border-radius: 50%;\n",
              "      cursor: pointer;\n",
              "      display: none;\n",
              "      fill: #1967D2;\n",
              "      height: 32px;\n",
              "      padding: 0 0 0 0;\n",
              "      width: 32px;\n",
              "    }\n",
              "\n",
              "    .colab-df-convert:hover {\n",
              "      background-color: #E2EBFA;\n",
              "      box-shadow: 0px 1px 2px rgba(60, 64, 67, 0.3), 0px 1px 3px 1px rgba(60, 64, 67, 0.15);\n",
              "      fill: #174EA6;\n",
              "    }\n",
              "\n",
              "    .colab-df-buttons div {\n",
              "      margin-bottom: 4px;\n",
              "    }\n",
              "\n",
              "    [theme=dark] .colab-df-convert {\n",
              "      background-color: #3B4455;\n",
              "      fill: #D2E3FC;\n",
              "    }\n",
              "\n",
              "    [theme=dark] .colab-df-convert:hover {\n",
              "      background-color: #434B5C;\n",
              "      box-shadow: 0px 1px 3px 1px rgba(0, 0, 0, 0.15);\n",
              "      filter: drop-shadow(0px 1px 2px rgba(0, 0, 0, 0.3));\n",
              "      fill: #FFFFFF;\n",
              "    }\n",
              "  </style>\n",
              "\n",
              "    <script>\n",
              "      const buttonEl =\n",
              "        document.querySelector('#df-23756927-b24f-4cfc-befe-44d40d4be2b4 button.colab-df-convert');\n",
              "      buttonEl.style.display =\n",
              "        google.colab.kernel.accessAllowed ? 'block' : 'none';\n",
              "\n",
              "      async function convertToInteractive(key) {\n",
              "        const element = document.querySelector('#df-23756927-b24f-4cfc-befe-44d40d4be2b4');\n",
              "        const dataTable =\n",
              "          await google.colab.kernel.invokeFunction('convertToInteractive',\n",
              "                                                    [key], {});\n",
              "        if (!dataTable) return;\n",
              "\n",
              "        const docLinkHtml = 'Like what you see? Visit the ' +\n",
              "          '<a target=\"_blank\" href=https://colab.research.google.com/notebooks/data_table.ipynb>data table notebook</a>'\n",
              "          + ' to learn more about interactive tables.';\n",
              "        element.innerHTML = '';\n",
              "        dataTable['output_type'] = 'display_data';\n",
              "        await google.colab.output.renderOutput(dataTable, element);\n",
              "        const docLink = document.createElement('div');\n",
              "        docLink.innerHTML = docLinkHtml;\n",
              "        element.appendChild(docLink);\n",
              "      }\n",
              "    </script>\n",
              "  </div>\n",
              "\n",
              "\n",
              "    <div id=\"df-99bbe99c-82fa-45d6-b38b-15b9c1f5636b\">\n",
              "      <button class=\"colab-df-quickchart\" onclick=\"quickchart('df-99bbe99c-82fa-45d6-b38b-15b9c1f5636b')\"\n",
              "                title=\"Suggest charts\"\n",
              "                style=\"display:none;\">\n",
              "\n",
              "<svg xmlns=\"http://www.w3.org/2000/svg\" height=\"24px\"viewBox=\"0 0 24 24\"\n",
              "     width=\"24px\">\n",
              "    <g>\n",
              "        <path d=\"M19 3H5c-1.1 0-2 .9-2 2v14c0 1.1.9 2 2 2h14c1.1 0 2-.9 2-2V5c0-1.1-.9-2-2-2zM9 17H7v-7h2v7zm4 0h-2V7h2v10zm4 0h-2v-4h2v4z\"/>\n",
              "    </g>\n",
              "</svg>\n",
              "      </button>\n",
              "\n",
              "<style>\n",
              "  .colab-df-quickchart {\n",
              "      --bg-color: #E8F0FE;\n",
              "      --fill-color: #1967D2;\n",
              "      --hover-bg-color: #E2EBFA;\n",
              "      --hover-fill-color: #174EA6;\n",
              "      --disabled-fill-color: #AAA;\n",
              "      --disabled-bg-color: #DDD;\n",
              "  }\n",
              "\n",
              "  [theme=dark] .colab-df-quickchart {\n",
              "      --bg-color: #3B4455;\n",
              "      --fill-color: #D2E3FC;\n",
              "      --hover-bg-color: #434B5C;\n",
              "      --hover-fill-color: #FFFFFF;\n",
              "      --disabled-bg-color: #3B4455;\n",
              "      --disabled-fill-color: #666;\n",
              "  }\n",
              "\n",
              "  .colab-df-quickchart {\n",
              "    background-color: var(--bg-color);\n",
              "    border: none;\n",
              "    border-radius: 50%;\n",
              "    cursor: pointer;\n",
              "    display: none;\n",
              "    fill: var(--fill-color);\n",
              "    height: 32px;\n",
              "    padding: 0;\n",
              "    width: 32px;\n",
              "  }\n",
              "\n",
              "  .colab-df-quickchart:hover {\n",
              "    background-color: var(--hover-bg-color);\n",
              "    box-shadow: 0 1px 2px rgba(60, 64, 67, 0.3), 0 1px 3px 1px rgba(60, 64, 67, 0.15);\n",
              "    fill: var(--button-hover-fill-color);\n",
              "  }\n",
              "\n",
              "  .colab-df-quickchart-complete:disabled,\n",
              "  .colab-df-quickchart-complete:disabled:hover {\n",
              "    background-color: var(--disabled-bg-color);\n",
              "    fill: var(--disabled-fill-color);\n",
              "    box-shadow: none;\n",
              "  }\n",
              "\n",
              "  .colab-df-spinner {\n",
              "    border: 2px solid var(--fill-color);\n",
              "    border-color: transparent;\n",
              "    border-bottom-color: var(--fill-color);\n",
              "    animation:\n",
              "      spin 1s steps(1) infinite;\n",
              "  }\n",
              "\n",
              "  @keyframes spin {\n",
              "    0% {\n",
              "      border-color: transparent;\n",
              "      border-bottom-color: var(--fill-color);\n",
              "      border-left-color: var(--fill-color);\n",
              "    }\n",
              "    20% {\n",
              "      border-color: transparent;\n",
              "      border-left-color: var(--fill-color);\n",
              "      border-top-color: var(--fill-color);\n",
              "    }\n",
              "    30% {\n",
              "      border-color: transparent;\n",
              "      border-left-color: var(--fill-color);\n",
              "      border-top-color: var(--fill-color);\n",
              "      border-right-color: var(--fill-color);\n",
              "    }\n",
              "    40% {\n",
              "      border-color: transparent;\n",
              "      border-right-color: var(--fill-color);\n",
              "      border-top-color: var(--fill-color);\n",
              "    }\n",
              "    60% {\n",
              "      border-color: transparent;\n",
              "      border-right-color: var(--fill-color);\n",
              "    }\n",
              "    80% {\n",
              "      border-color: transparent;\n",
              "      border-right-color: var(--fill-color);\n",
              "      border-bottom-color: var(--fill-color);\n",
              "    }\n",
              "    90% {\n",
              "      border-color: transparent;\n",
              "      border-bottom-color: var(--fill-color);\n",
              "    }\n",
              "  }\n",
              "</style>\n",
              "\n",
              "      <script>\n",
              "        async function quickchart(key) {\n",
              "          const quickchartButtonEl =\n",
              "            document.querySelector('#' + key + ' button');\n",
              "          quickchartButtonEl.disabled = true;  // To prevent multiple clicks.\n",
              "          quickchartButtonEl.classList.add('colab-df-spinner');\n",
              "          try {\n",
              "            const charts = await google.colab.kernel.invokeFunction(\n",
              "                'suggestCharts', [key], {});\n",
              "          } catch (error) {\n",
              "            console.error('Error during call to suggestCharts:', error);\n",
              "          }\n",
              "          quickchartButtonEl.classList.remove('colab-df-spinner');\n",
              "          quickchartButtonEl.classList.add('colab-df-quickchart-complete');\n",
              "        }\n",
              "        (() => {\n",
              "          let quickchartButtonEl =\n",
              "            document.querySelector('#df-99bbe99c-82fa-45d6-b38b-15b9c1f5636b button');\n",
              "          quickchartButtonEl.style.display =\n",
              "            google.colab.kernel.accessAllowed ? 'block' : 'none';\n",
              "        })();\n",
              "      </script>\n",
              "    </div>\n",
              "\n",
              "    </div>\n",
              "  </div>\n"
            ],
            "application/vnd.google.colaboratory.intrinsic+json": {
              "type": "dataframe",
              "summary": "{\n  \"name\": \"display(first\",\n  \"rows\": 5,\n  \"fields\": [\n    {\n      \"column\": \"sag_sensor_z\",\n      \"properties\": {\n        \"dtype\": \"number\",\n        \"std\": 1.5652475842498528,\n        \"min\": 81.0,\n        \"max\": 85.0,\n        \"num_unique_values\": 4,\n        \"samples\": [\n          84.5,\n          81.0,\n          85.0\n        ],\n        \"semantic_type\": \"\",\n        \"description\": \"\"\n      }\n    },\n    {\n      \"column\": \"sag_sensor_x\",\n      \"properties\": {\n        \"dtype\": \"number\",\n        \"std\": 25.798740279323717,\n        \"min\": 9.5,\n        \"max\": 64.0,\n        \"num_unique_values\": 5,\n        \"samples\": [\n          56.0,\n          9.5,\n          12.0\n        ],\n        \"semantic_type\": \"\",\n        \"description\": \"\"\n      }\n    },\n    {\n      \"column\": \"sag_sensor_y\",\n      \"properties\": {\n        \"dtype\": \"number\",\n        \"std\": 1.5652475842498528,\n        \"min\": -85.0,\n        \"max\": -81.0,\n        \"num_unique_values\": 4,\n        \"samples\": [\n          -84.5,\n          -81.0,\n          -85.0\n        ],\n        \"semantic_type\": \"\",\n        \"description\": \"\"\n      }\n    },\n    {\n      \"column\": \"sol_sensor_x\",\n      \"properties\": {\n        \"dtype\": \"number\",\n        \"std\": 0.570087712549569,\n        \"min\": 98.5,\n        \"max\": 100.0,\n        \"num_unique_values\": 4,\n        \"samples\": [\n          98.5,\n          99.5,\n          99.0\n        ],\n        \"semantic_type\": \"\",\n        \"description\": \"\"\n      }\n    },\n    {\n      \"column\": \"sol_sensor_y\",\n      \"properties\": {\n        \"dtype\": \"number\",\n        \"std\": 1.2942179105544784,\n        \"min\": -147.0,\n        \"max\": -143.5,\n        \"num_unique_values\": 5,\n        \"samples\": [\n          -145.5,\n          -147.0,\n          -146.0\n        ],\n        \"semantic_type\": \"\",\n        \"description\": \"\"\n      }\n    },\n    {\n      \"column\": \"sol_sensor_z\",\n      \"properties\": {\n        \"dtype\": \"number\",\n        \"std\": 0.570087712549569,\n        \"min\": 98.5,\n        \"max\": 100.0,\n        \"num_unique_values\": 4,\n        \"samples\": [\n          98.5,\n          99.5,\n          99.0\n        ],\n        \"semantic_type\": \"\",\n        \"description\": \"\"\n      }\n    },\n    {\n      \"column\": \"date\",\n      \"properties\": {\n        \"dtype\": \"object\",\n        \"num_unique_values\": 5,\n        \"samples\": [\n          \"2025-04-16 18:45:22\",\n          \"2025-04-16 18:45:25\",\n          \"2025-04-16 18:45:23\"\n        ],\n        \"semantic_type\": \"\",\n        \"description\": \"\"\n      }\n    }\n  ]\n}"
            }
          },
          "metadata": {}
        },
        {
          "output_type": "stream",
          "name": "stdout",
          "text": [
            "\n",
            "Dataset içinden tek bir sütun indekslendi.\n"
          ]
        },
        {
          "output_type": "display_data",
          "data": {
            "text/plain": [
              "                             date  sag_sensor_x\n",
              "sag_sensor_z                                   \n",
              "85.0          2025-04-16 18:45:21          64.0\n",
              "84.5          2025-04-16 18:45:22          56.0\n",
              "83.0          2025-04-16 18:45:23          12.0\n",
              "81.0          2025-04-16 18:45:24          19.5\n",
              "83.0          2025-04-16 18:45:25           9.5"
            ],
            "text/html": [
              "\n",
              "  <div id=\"df-42b04071-d304-4dba-8339-a35ff5582dd7\" class=\"colab-df-container\">\n",
              "    <div>\n",
              "<style scoped>\n",
              "    .dataframe tbody tr th:only-of-type {\n",
              "        vertical-align: middle;\n",
              "    }\n",
              "\n",
              "    .dataframe tbody tr th {\n",
              "        vertical-align: top;\n",
              "    }\n",
              "\n",
              "    .dataframe thead th {\n",
              "        text-align: right;\n",
              "    }\n",
              "</style>\n",
              "<table border=\"1\" class=\"dataframe\">\n",
              "  <thead>\n",
              "    <tr style=\"text-align: right;\">\n",
              "      <th></th>\n",
              "      <th>date</th>\n",
              "      <th>sag_sensor_x</th>\n",
              "    </tr>\n",
              "    <tr>\n",
              "      <th>sag_sensor_z</th>\n",
              "      <th></th>\n",
              "      <th></th>\n",
              "    </tr>\n",
              "  </thead>\n",
              "  <tbody>\n",
              "    <tr>\n",
              "      <th>85.0</th>\n",
              "      <td>2025-04-16 18:45:21</td>\n",
              "      <td>64.0</td>\n",
              "    </tr>\n",
              "    <tr>\n",
              "      <th>84.5</th>\n",
              "      <td>2025-04-16 18:45:22</td>\n",
              "      <td>56.0</td>\n",
              "    </tr>\n",
              "    <tr>\n",
              "      <th>83.0</th>\n",
              "      <td>2025-04-16 18:45:23</td>\n",
              "      <td>12.0</td>\n",
              "    </tr>\n",
              "    <tr>\n",
              "      <th>81.0</th>\n",
              "      <td>2025-04-16 18:45:24</td>\n",
              "      <td>19.5</td>\n",
              "    </tr>\n",
              "    <tr>\n",
              "      <th>83.0</th>\n",
              "      <td>2025-04-16 18:45:25</td>\n",
              "      <td>9.5</td>\n",
              "    </tr>\n",
              "  </tbody>\n",
              "</table>\n",
              "</div>\n",
              "    <div class=\"colab-df-buttons\">\n",
              "\n",
              "  <div class=\"colab-df-container\">\n",
              "    <button class=\"colab-df-convert\" onclick=\"convertToInteractive('df-42b04071-d304-4dba-8339-a35ff5582dd7')\"\n",
              "            title=\"Convert this dataframe to an interactive table.\"\n",
              "            style=\"display:none;\">\n",
              "\n",
              "  <svg xmlns=\"http://www.w3.org/2000/svg\" height=\"24px\" viewBox=\"0 -960 960 960\">\n",
              "    <path d=\"M120-120v-720h720v720H120Zm60-500h600v-160H180v160Zm220 220h160v-160H400v160Zm0 220h160v-160H400v160ZM180-400h160v-160H180v160Zm440 0h160v-160H620v160ZM180-180h160v-160H180v160Zm440 0h160v-160H620v160Z\"/>\n",
              "  </svg>\n",
              "    </button>\n",
              "\n",
              "  <style>\n",
              "    .colab-df-container {\n",
              "      display:flex;\n",
              "      gap: 12px;\n",
              "    }\n",
              "\n",
              "    .colab-df-convert {\n",
              "      background-color: #E8F0FE;\n",
              "      border: none;\n",
              "      border-radius: 50%;\n",
              "      cursor: pointer;\n",
              "      display: none;\n",
              "      fill: #1967D2;\n",
              "      height: 32px;\n",
              "      padding: 0 0 0 0;\n",
              "      width: 32px;\n",
              "    }\n",
              "\n",
              "    .colab-df-convert:hover {\n",
              "      background-color: #E2EBFA;\n",
              "      box-shadow: 0px 1px 2px rgba(60, 64, 67, 0.3), 0px 1px 3px 1px rgba(60, 64, 67, 0.15);\n",
              "      fill: #174EA6;\n",
              "    }\n",
              "\n",
              "    .colab-df-buttons div {\n",
              "      margin-bottom: 4px;\n",
              "    }\n",
              "\n",
              "    [theme=dark] .colab-df-convert {\n",
              "      background-color: #3B4455;\n",
              "      fill: #D2E3FC;\n",
              "    }\n",
              "\n",
              "    [theme=dark] .colab-df-convert:hover {\n",
              "      background-color: #434B5C;\n",
              "      box-shadow: 0px 1px 3px 1px rgba(0, 0, 0, 0.15);\n",
              "      filter: drop-shadow(0px 1px 2px rgba(0, 0, 0, 0.3));\n",
              "      fill: #FFFFFF;\n",
              "    }\n",
              "  </style>\n",
              "\n",
              "    <script>\n",
              "      const buttonEl =\n",
              "        document.querySelector('#df-42b04071-d304-4dba-8339-a35ff5582dd7 button.colab-df-convert');\n",
              "      buttonEl.style.display =\n",
              "        google.colab.kernel.accessAllowed ? 'block' : 'none';\n",
              "\n",
              "      async function convertToInteractive(key) {\n",
              "        const element = document.querySelector('#df-42b04071-d304-4dba-8339-a35ff5582dd7');\n",
              "        const dataTable =\n",
              "          await google.colab.kernel.invokeFunction('convertToInteractive',\n",
              "                                                    [key], {});\n",
              "        if (!dataTable) return;\n",
              "\n",
              "        const docLinkHtml = 'Like what you see? Visit the ' +\n",
              "          '<a target=\"_blank\" href=https://colab.research.google.com/notebooks/data_table.ipynb>data table notebook</a>'\n",
              "          + ' to learn more about interactive tables.';\n",
              "        element.innerHTML = '';\n",
              "        dataTable['output_type'] = 'display_data';\n",
              "        await google.colab.output.renderOutput(dataTable, element);\n",
              "        const docLink = document.createElement('div');\n",
              "        docLink.innerHTML = docLinkHtml;\n",
              "        element.appendChild(docLink);\n",
              "      }\n",
              "    </script>\n",
              "  </div>\n",
              "\n",
              "\n",
              "    <div id=\"df-54e74fa0-a024-4a99-9a9f-14bcf5655d7f\">\n",
              "      <button class=\"colab-df-quickchart\" onclick=\"quickchart('df-54e74fa0-a024-4a99-9a9f-14bcf5655d7f')\"\n",
              "                title=\"Suggest charts\"\n",
              "                style=\"display:none;\">\n",
              "\n",
              "<svg xmlns=\"http://www.w3.org/2000/svg\" height=\"24px\"viewBox=\"0 0 24 24\"\n",
              "     width=\"24px\">\n",
              "    <g>\n",
              "        <path d=\"M19 3H5c-1.1 0-2 .9-2 2v14c0 1.1.9 2 2 2h14c1.1 0 2-.9 2-2V5c0-1.1-.9-2-2-2zM9 17H7v-7h2v7zm4 0h-2V7h2v10zm4 0h-2v-4h2v4z\"/>\n",
              "    </g>\n",
              "</svg>\n",
              "      </button>\n",
              "\n",
              "<style>\n",
              "  .colab-df-quickchart {\n",
              "      --bg-color: #E8F0FE;\n",
              "      --fill-color: #1967D2;\n",
              "      --hover-bg-color: #E2EBFA;\n",
              "      --hover-fill-color: #174EA6;\n",
              "      --disabled-fill-color: #AAA;\n",
              "      --disabled-bg-color: #DDD;\n",
              "  }\n",
              "\n",
              "  [theme=dark] .colab-df-quickchart {\n",
              "      --bg-color: #3B4455;\n",
              "      --fill-color: #D2E3FC;\n",
              "      --hover-bg-color: #434B5C;\n",
              "      --hover-fill-color: #FFFFFF;\n",
              "      --disabled-bg-color: #3B4455;\n",
              "      --disabled-fill-color: #666;\n",
              "  }\n",
              "\n",
              "  .colab-df-quickchart {\n",
              "    background-color: var(--bg-color);\n",
              "    border: none;\n",
              "    border-radius: 50%;\n",
              "    cursor: pointer;\n",
              "    display: none;\n",
              "    fill: var(--fill-color);\n",
              "    height: 32px;\n",
              "    padding: 0;\n",
              "    width: 32px;\n",
              "  }\n",
              "\n",
              "  .colab-df-quickchart:hover {\n",
              "    background-color: var(--hover-bg-color);\n",
              "    box-shadow: 0 1px 2px rgba(60, 64, 67, 0.3), 0 1px 3px 1px rgba(60, 64, 67, 0.15);\n",
              "    fill: var(--button-hover-fill-color);\n",
              "  }\n",
              "\n",
              "  .colab-df-quickchart-complete:disabled,\n",
              "  .colab-df-quickchart-complete:disabled:hover {\n",
              "    background-color: var(--disabled-bg-color);\n",
              "    fill: var(--disabled-fill-color);\n",
              "    box-shadow: none;\n",
              "  }\n",
              "\n",
              "  .colab-df-spinner {\n",
              "    border: 2px solid var(--fill-color);\n",
              "    border-color: transparent;\n",
              "    border-bottom-color: var(--fill-color);\n",
              "    animation:\n",
              "      spin 1s steps(1) infinite;\n",
              "  }\n",
              "\n",
              "  @keyframes spin {\n",
              "    0% {\n",
              "      border-color: transparent;\n",
              "      border-bottom-color: var(--fill-color);\n",
              "      border-left-color: var(--fill-color);\n",
              "    }\n",
              "    20% {\n",
              "      border-color: transparent;\n",
              "      border-left-color: var(--fill-color);\n",
              "      border-top-color: var(--fill-color);\n",
              "    }\n",
              "    30% {\n",
              "      border-color: transparent;\n",
              "      border-left-color: var(--fill-color);\n",
              "      border-top-color: var(--fill-color);\n",
              "      border-right-color: var(--fill-color);\n",
              "    }\n",
              "    40% {\n",
              "      border-color: transparent;\n",
              "      border-right-color: var(--fill-color);\n",
              "      border-top-color: var(--fill-color);\n",
              "    }\n",
              "    60% {\n",
              "      border-color: transparent;\n",
              "      border-right-color: var(--fill-color);\n",
              "    }\n",
              "    80% {\n",
              "      border-color: transparent;\n",
              "      border-right-color: var(--fill-color);\n",
              "      border-bottom-color: var(--fill-color);\n",
              "    }\n",
              "    90% {\n",
              "      border-color: transparent;\n",
              "      border-bottom-color: var(--fill-color);\n",
              "    }\n",
              "  }\n",
              "</style>\n",
              "\n",
              "      <script>\n",
              "        async function quickchart(key) {\n",
              "          const quickchartButtonEl =\n",
              "            document.querySelector('#' + key + ' button');\n",
              "          quickchartButtonEl.disabled = true;  // To prevent multiple clicks.\n",
              "          quickchartButtonEl.classList.add('colab-df-spinner');\n",
              "          try {\n",
              "            const charts = await google.colab.kernel.invokeFunction(\n",
              "                'suggestCharts', [key], {});\n",
              "          } catch (error) {\n",
              "            console.error('Error during call to suggestCharts:', error);\n",
              "          }\n",
              "          quickchartButtonEl.classList.remove('colab-df-spinner');\n",
              "          quickchartButtonEl.classList.add('colab-df-quickchart-complete');\n",
              "        }\n",
              "        (() => {\n",
              "          let quickchartButtonEl =\n",
              "            document.querySelector('#df-54e74fa0-a024-4a99-9a9f-14bcf5655d7f button');\n",
              "          quickchartButtonEl.style.display =\n",
              "            google.colab.kernel.accessAllowed ? 'block' : 'none';\n",
              "        })();\n",
              "      </script>\n",
              "    </div>\n",
              "\n",
              "    </div>\n",
              "  </div>\n"
            ],
            "application/vnd.google.colaboratory.intrinsic+json": {
              "type": "dataframe",
              "summary": "{\n  \"name\": \"display(first\",\n  \"rows\": 5,\n  \"fields\": [\n    {\n      \"column\": \"sag_sensor_z\",\n      \"properties\": {\n        \"dtype\": \"number\",\n        \"std\": 1.5652475842498528,\n        \"min\": 81.0,\n        \"max\": 85.0,\n        \"num_unique_values\": 4,\n        \"samples\": [\n          84.5,\n          81.0,\n          85.0\n        ],\n        \"semantic_type\": \"\",\n        \"description\": \"\"\n      }\n    },\n    {\n      \"column\": \"date\",\n      \"properties\": {\n        \"dtype\": \"object\",\n        \"num_unique_values\": 5,\n        \"samples\": [\n          \"2025-04-16 18:45:22\",\n          \"2025-04-16 18:45:25\",\n          \"2025-04-16 18:45:23\"\n        ],\n        \"semantic_type\": \"\",\n        \"description\": \"\"\n      }\n    },\n    {\n      \"column\": \"sag_sensor_x\",\n      \"properties\": {\n        \"dtype\": \"number\",\n        \"std\": 25.798740279323717,\n        \"min\": 9.5,\n        \"max\": 64.0,\n        \"num_unique_values\": 5,\n        \"samples\": [\n          56.0,\n          9.5,\n          12.0\n        ],\n        \"semantic_type\": \"\",\n        \"description\": \"\"\n      }\n    }\n  ]\n}"
            }
          },
          "metadata": {}
        }
      ]
    },
    {
      "cell_type": "markdown",
      "source": [
        "dataframe.loc[] = Satır ve sütun etiketlerine göre veri seçme işlemi\n",
        "\n",
        "dataframe.iloc[] = Satır ve sütun tam sayı konumlarına göre veri seçme işlemi"
      ],
      "metadata": {
        "id": "f__bOJA1tJGv"
      }
    },
    {
      "cell_type": "code",
      "source": [
        "second = data1.loc[:,\"date\"]#tüm satırlar ve date sütunu\n",
        "third = data1.loc[:,\"sag_sensor_x\"]\n",
        "\n",
        "print(second, \"\\n\\n\\n\", third)"
      ],
      "metadata": {
        "colab": {
          "base_uri": "https://localhost:8080/"
        },
        "id": "Ja4BMnjPsm6e",
        "outputId": "057337fd-b178-412f-f086-e611334157ce"
      },
      "execution_count": null,
      "outputs": [
        {
          "output_type": "stream",
          "name": "stdout",
          "text": [
            "sag_sensor_z\n",
            "85.0    2025-04-16 18:45:21\n",
            "84.5    2025-04-16 18:45:22\n",
            "83.0    2025-04-16 18:45:23\n",
            "81.0    2025-04-16 18:45:24\n",
            "83.0    2025-04-16 18:45:25\n",
            "               ...         \n",
            "62.0    2025-04-22 18:49:39\n",
            "61.0    2025-04-22 18:49:39\n",
            "61.0    2025-04-22 18:49:39\n",
            "61.0    2025-04-22 18:49:39\n",
            "62.0    2025-04-22 18:49:39\n",
            "Name: date, Length: 5649, dtype: object \n",
            "\n",
            "\n",
            " sag_sensor_z\n",
            "85.0    64.0\n",
            "84.5    56.0\n",
            "83.0    12.0\n",
            "81.0    19.5\n",
            "83.0     9.5\n",
            "        ... \n",
            "62.0    17.0\n",
            "61.0    17.0\n",
            "61.0    17.0\n",
            "61.0    16.0\n",
            "62.0    17.0\n",
            "Name: sag_sensor_x, Length: 5649, dtype: float64\n"
          ]
        }
      ]
    },
    {
      "cell_type": "code",
      "source": [
        "df3 = pd.DataFrame({\n",
        "    \"isim\":[\"caner\",\"mirayet\",\"ecem\",\"alkın\"],\n",
        "    \"yas\":[28,28,28,28]\n",
        "}, index=[\"a\",\"b\",\"c\",\"d\"])"
      ],
      "metadata": {
        "id": "LLS-KcwEt9tF"
      },
      "execution_count": null,
      "outputs": []
    },
    {
      "cell_type": "code",
      "source": [
        "print(df3)"
      ],
      "metadata": {
        "colab": {
          "base_uri": "https://localhost:8080/"
        },
        "id": "epTP_qogu-z1",
        "outputId": "1c3a12c5-fbec-49cf-9123-bcb249f22c62"
      },
      "execution_count": null,
      "outputs": [
        {
          "output_type": "stream",
          "name": "stdout",
          "text": [
            "      isim  yas\n",
            "a    caner   28\n",
            "b  mirayet   28\n",
            "c     ecem   28\n",
            "d    alkın   28\n"
          ]
        }
      ]
    },
    {
      "cell_type": "code",
      "source": [
        "df3.loc[\"b\"]"
      ],
      "metadata": {
        "colab": {
          "base_uri": "https://localhost:8080/",
          "height": 146
        },
        "id": "PUdDE28evAUM",
        "outputId": "6d237dd7-03de-4c85-ea9b-49e16ffc161a"
      },
      "execution_count": null,
      "outputs": [
        {
          "output_type": "execute_result",
          "data": {
            "text/plain": [
              "isim    mirayet\n",
              "yas          28\n",
              "Name: b, dtype: object"
            ],
            "text/html": [
              "<div>\n",
              "<style scoped>\n",
              "    .dataframe tbody tr th:only-of-type {\n",
              "        vertical-align: middle;\n",
              "    }\n",
              "\n",
              "    .dataframe tbody tr th {\n",
              "        vertical-align: top;\n",
              "    }\n",
              "\n",
              "    .dataframe thead th {\n",
              "        text-align: right;\n",
              "    }\n",
              "</style>\n",
              "<table border=\"1\" class=\"dataframe\">\n",
              "  <thead>\n",
              "    <tr style=\"text-align: right;\">\n",
              "      <th></th>\n",
              "      <th>b</th>\n",
              "    </tr>\n",
              "  </thead>\n",
              "  <tbody>\n",
              "    <tr>\n",
              "      <th>isim</th>\n",
              "      <td>mirayet</td>\n",
              "    </tr>\n",
              "    <tr>\n",
              "      <th>yas</th>\n",
              "      <td>28</td>\n",
              "    </tr>\n",
              "  </tbody>\n",
              "</table>\n",
              "</div><br><label><b>dtype:</b> object</label>"
            ]
          },
          "metadata": {},
          "execution_count": 17
        }
      ]
    },
    {
      "cell_type": "code",
      "source": [
        "df3.iloc[:3]"
      ],
      "metadata": {
        "colab": {
          "base_uri": "https://localhost:8080/",
          "height": 143
        },
        "id": "qZAxkIFEvEdk",
        "outputId": "595cd83c-489e-4cf4-dabc-cf5007edd956"
      },
      "execution_count": null,
      "outputs": [
        {
          "output_type": "execute_result",
          "data": {
            "text/plain": [
              "      isim  yas\n",
              "a    caner   28\n",
              "b  mirayet   28\n",
              "c     ecem   28"
            ],
            "text/html": [
              "\n",
              "  <div id=\"df-f51e9b10-25af-4a4d-b385-51731f8b6e4d\" class=\"colab-df-container\">\n",
              "    <div>\n",
              "<style scoped>\n",
              "    .dataframe tbody tr th:only-of-type {\n",
              "        vertical-align: middle;\n",
              "    }\n",
              "\n",
              "    .dataframe tbody tr th {\n",
              "        vertical-align: top;\n",
              "    }\n",
              "\n",
              "    .dataframe thead th {\n",
              "        text-align: right;\n",
              "    }\n",
              "</style>\n",
              "<table border=\"1\" class=\"dataframe\">\n",
              "  <thead>\n",
              "    <tr style=\"text-align: right;\">\n",
              "      <th></th>\n",
              "      <th>isim</th>\n",
              "      <th>yas</th>\n",
              "    </tr>\n",
              "  </thead>\n",
              "  <tbody>\n",
              "    <tr>\n",
              "      <th>a</th>\n",
              "      <td>caner</td>\n",
              "      <td>28</td>\n",
              "    </tr>\n",
              "    <tr>\n",
              "      <th>b</th>\n",
              "      <td>mirayet</td>\n",
              "      <td>28</td>\n",
              "    </tr>\n",
              "    <tr>\n",
              "      <th>c</th>\n",
              "      <td>ecem</td>\n",
              "      <td>28</td>\n",
              "    </tr>\n",
              "  </tbody>\n",
              "</table>\n",
              "</div>\n",
              "    <div class=\"colab-df-buttons\">\n",
              "\n",
              "  <div class=\"colab-df-container\">\n",
              "    <button class=\"colab-df-convert\" onclick=\"convertToInteractive('df-f51e9b10-25af-4a4d-b385-51731f8b6e4d')\"\n",
              "            title=\"Convert this dataframe to an interactive table.\"\n",
              "            style=\"display:none;\">\n",
              "\n",
              "  <svg xmlns=\"http://www.w3.org/2000/svg\" height=\"24px\" viewBox=\"0 -960 960 960\">\n",
              "    <path d=\"M120-120v-720h720v720H120Zm60-500h600v-160H180v160Zm220 220h160v-160H400v160Zm0 220h160v-160H400v160ZM180-400h160v-160H180v160Zm440 0h160v-160H620v160ZM180-180h160v-160H180v160Zm440 0h160v-160H620v160Z\"/>\n",
              "  </svg>\n",
              "    </button>\n",
              "\n",
              "  <style>\n",
              "    .colab-df-container {\n",
              "      display:flex;\n",
              "      gap: 12px;\n",
              "    }\n",
              "\n",
              "    .colab-df-convert {\n",
              "      background-color: #E8F0FE;\n",
              "      border: none;\n",
              "      border-radius: 50%;\n",
              "      cursor: pointer;\n",
              "      display: none;\n",
              "      fill: #1967D2;\n",
              "      height: 32px;\n",
              "      padding: 0 0 0 0;\n",
              "      width: 32px;\n",
              "    }\n",
              "\n",
              "    .colab-df-convert:hover {\n",
              "      background-color: #E2EBFA;\n",
              "      box-shadow: 0px 1px 2px rgba(60, 64, 67, 0.3), 0px 1px 3px 1px rgba(60, 64, 67, 0.15);\n",
              "      fill: #174EA6;\n",
              "    }\n",
              "\n",
              "    .colab-df-buttons div {\n",
              "      margin-bottom: 4px;\n",
              "    }\n",
              "\n",
              "    [theme=dark] .colab-df-convert {\n",
              "      background-color: #3B4455;\n",
              "      fill: #D2E3FC;\n",
              "    }\n",
              "\n",
              "    [theme=dark] .colab-df-convert:hover {\n",
              "      background-color: #434B5C;\n",
              "      box-shadow: 0px 1px 3px 1px rgba(0, 0, 0, 0.15);\n",
              "      filter: drop-shadow(0px 1px 2px rgba(0, 0, 0, 0.3));\n",
              "      fill: #FFFFFF;\n",
              "    }\n",
              "  </style>\n",
              "\n",
              "    <script>\n",
              "      const buttonEl =\n",
              "        document.querySelector('#df-f51e9b10-25af-4a4d-b385-51731f8b6e4d button.colab-df-convert');\n",
              "      buttonEl.style.display =\n",
              "        google.colab.kernel.accessAllowed ? 'block' : 'none';\n",
              "\n",
              "      async function convertToInteractive(key) {\n",
              "        const element = document.querySelector('#df-f51e9b10-25af-4a4d-b385-51731f8b6e4d');\n",
              "        const dataTable =\n",
              "          await google.colab.kernel.invokeFunction('convertToInteractive',\n",
              "                                                    [key], {});\n",
              "        if (!dataTable) return;\n",
              "\n",
              "        const docLinkHtml = 'Like what you see? Visit the ' +\n",
              "          '<a target=\"_blank\" href=https://colab.research.google.com/notebooks/data_table.ipynb>data table notebook</a>'\n",
              "          + ' to learn more about interactive tables.';\n",
              "        element.innerHTML = '';\n",
              "        dataTable['output_type'] = 'display_data';\n",
              "        await google.colab.output.renderOutput(dataTable, element);\n",
              "        const docLink = document.createElement('div');\n",
              "        docLink.innerHTML = docLinkHtml;\n",
              "        element.appendChild(docLink);\n",
              "      }\n",
              "    </script>\n",
              "  </div>\n",
              "\n",
              "\n",
              "    <div id=\"df-f469b881-9160-45bb-83b7-ce45fe5770dc\">\n",
              "      <button class=\"colab-df-quickchart\" onclick=\"quickchart('df-f469b881-9160-45bb-83b7-ce45fe5770dc')\"\n",
              "                title=\"Suggest charts\"\n",
              "                style=\"display:none;\">\n",
              "\n",
              "<svg xmlns=\"http://www.w3.org/2000/svg\" height=\"24px\"viewBox=\"0 0 24 24\"\n",
              "     width=\"24px\">\n",
              "    <g>\n",
              "        <path d=\"M19 3H5c-1.1 0-2 .9-2 2v14c0 1.1.9 2 2 2h14c1.1 0 2-.9 2-2V5c0-1.1-.9-2-2-2zM9 17H7v-7h2v7zm4 0h-2V7h2v10zm4 0h-2v-4h2v4z\"/>\n",
              "    </g>\n",
              "</svg>\n",
              "      </button>\n",
              "\n",
              "<style>\n",
              "  .colab-df-quickchart {\n",
              "      --bg-color: #E8F0FE;\n",
              "      --fill-color: #1967D2;\n",
              "      --hover-bg-color: #E2EBFA;\n",
              "      --hover-fill-color: #174EA6;\n",
              "      --disabled-fill-color: #AAA;\n",
              "      --disabled-bg-color: #DDD;\n",
              "  }\n",
              "\n",
              "  [theme=dark] .colab-df-quickchart {\n",
              "      --bg-color: #3B4455;\n",
              "      --fill-color: #D2E3FC;\n",
              "      --hover-bg-color: #434B5C;\n",
              "      --hover-fill-color: #FFFFFF;\n",
              "      --disabled-bg-color: #3B4455;\n",
              "      --disabled-fill-color: #666;\n",
              "  }\n",
              "\n",
              "  .colab-df-quickchart {\n",
              "    background-color: var(--bg-color);\n",
              "    border: none;\n",
              "    border-radius: 50%;\n",
              "    cursor: pointer;\n",
              "    display: none;\n",
              "    fill: var(--fill-color);\n",
              "    height: 32px;\n",
              "    padding: 0;\n",
              "    width: 32px;\n",
              "  }\n",
              "\n",
              "  .colab-df-quickchart:hover {\n",
              "    background-color: var(--hover-bg-color);\n",
              "    box-shadow: 0 1px 2px rgba(60, 64, 67, 0.3), 0 1px 3px 1px rgba(60, 64, 67, 0.15);\n",
              "    fill: var(--button-hover-fill-color);\n",
              "  }\n",
              "\n",
              "  .colab-df-quickchart-complete:disabled,\n",
              "  .colab-df-quickchart-complete:disabled:hover {\n",
              "    background-color: var(--disabled-bg-color);\n",
              "    fill: var(--disabled-fill-color);\n",
              "    box-shadow: none;\n",
              "  }\n",
              "\n",
              "  .colab-df-spinner {\n",
              "    border: 2px solid var(--fill-color);\n",
              "    border-color: transparent;\n",
              "    border-bottom-color: var(--fill-color);\n",
              "    animation:\n",
              "      spin 1s steps(1) infinite;\n",
              "  }\n",
              "\n",
              "  @keyframes spin {\n",
              "    0% {\n",
              "      border-color: transparent;\n",
              "      border-bottom-color: var(--fill-color);\n",
              "      border-left-color: var(--fill-color);\n",
              "    }\n",
              "    20% {\n",
              "      border-color: transparent;\n",
              "      border-left-color: var(--fill-color);\n",
              "      border-top-color: var(--fill-color);\n",
              "    }\n",
              "    30% {\n",
              "      border-color: transparent;\n",
              "      border-left-color: var(--fill-color);\n",
              "      border-top-color: var(--fill-color);\n",
              "      border-right-color: var(--fill-color);\n",
              "    }\n",
              "    40% {\n",
              "      border-color: transparent;\n",
              "      border-right-color: var(--fill-color);\n",
              "      border-top-color: var(--fill-color);\n",
              "    }\n",
              "    60% {\n",
              "      border-color: transparent;\n",
              "      border-right-color: var(--fill-color);\n",
              "    }\n",
              "    80% {\n",
              "      border-color: transparent;\n",
              "      border-right-color: var(--fill-color);\n",
              "      border-bottom-color: var(--fill-color);\n",
              "    }\n",
              "    90% {\n",
              "      border-color: transparent;\n",
              "      border-bottom-color: var(--fill-color);\n",
              "    }\n",
              "  }\n",
              "</style>\n",
              "\n",
              "      <script>\n",
              "        async function quickchart(key) {\n",
              "          const quickchartButtonEl =\n",
              "            document.querySelector('#' + key + ' button');\n",
              "          quickchartButtonEl.disabled = true;  // To prevent multiple clicks.\n",
              "          quickchartButtonEl.classList.add('colab-df-spinner');\n",
              "          try {\n",
              "            const charts = await google.colab.kernel.invokeFunction(\n",
              "                'suggestCharts', [key], {});\n",
              "          } catch (error) {\n",
              "            console.error('Error during call to suggestCharts:', error);\n",
              "          }\n",
              "          quickchartButtonEl.classList.remove('colab-df-spinner');\n",
              "          quickchartButtonEl.classList.add('colab-df-quickchart-complete');\n",
              "        }\n",
              "        (() => {\n",
              "          let quickchartButtonEl =\n",
              "            document.querySelector('#df-f469b881-9160-45bb-83b7-ce45fe5770dc button');\n",
              "          quickchartButtonEl.style.display =\n",
              "            google.colab.kernel.accessAllowed ? 'block' : 'none';\n",
              "        })();\n",
              "      </script>\n",
              "    </div>\n",
              "\n",
              "    </div>\n",
              "  </div>\n"
            ],
            "application/vnd.google.colaboratory.intrinsic+json": {
              "type": "dataframe",
              "summary": "{\n  \"name\": \"df3\",\n  \"rows\": 3,\n  \"fields\": [\n    {\n      \"column\": \"isim\",\n      \"properties\": {\n        \"dtype\": \"string\",\n        \"num_unique_values\": 3,\n        \"samples\": [\n          \"caner\",\n          \"mirayet\",\n          \"ecem\"\n        ],\n        \"semantic_type\": \"\",\n        \"description\": \"\"\n      }\n    },\n    {\n      \"column\": \"yas\",\n      \"properties\": {\n        \"dtype\": \"number\",\n        \"std\": 0,\n        \"min\": 28,\n        \"max\": 28,\n        \"num_unique_values\": 1,\n        \"samples\": [\n          28\n        ],\n        \"semantic_type\": \"\",\n        \"description\": \"\"\n      }\n    }\n  ]\n}"
            }
          },
          "metadata": {},
          "execution_count": 20
        }
      ]
    },
    {
      "cell_type": "code",
      "source": [
        "data1.iloc[3,4] # 3. satır, 4. sütun"
      ],
      "metadata": {
        "colab": {
          "base_uri": "https://localhost:8080/"
        },
        "id": "yc5F0npCv6rd",
        "outputId": "370944dc-6d57-4f76-8ada-76c7a6f82c34"
      },
      "execution_count": null,
      "outputs": [
        {
          "output_type": "execute_result",
          "data": {
            "text/plain": [
              "np.float64(99.5)"
            ]
          },
          "metadata": {},
          "execution_count": 23
        }
      ]
    },
    {
      "cell_type": "code",
      "source": [
        "#eksik veri kontrolü\n",
        "\n",
        "data1.isnull().sum()"
      ],
      "metadata": {
        "colab": {
          "base_uri": "https://localhost:8080/",
          "height": 272
        },
        "id": "SLKND51mzMSN",
        "outputId": "68f008a6-2d73-40eb-81d2-6cb6cf0f083f"
      },
      "execution_count": null,
      "outputs": [
        {
          "output_type": "execute_result",
          "data": {
            "text/plain": [
              "sag_sensor_x    0\n",
              "sag_sensor_y    0\n",
              "sol_sensor_x    0\n",
              "sol_sensor_y    0\n",
              "sol_sensor_z    0\n",
              "date            0\n",
              "dtype: int64"
            ],
            "text/html": [
              "<div>\n",
              "<style scoped>\n",
              "    .dataframe tbody tr th:only-of-type {\n",
              "        vertical-align: middle;\n",
              "    }\n",
              "\n",
              "    .dataframe tbody tr th {\n",
              "        vertical-align: top;\n",
              "    }\n",
              "\n",
              "    .dataframe thead th {\n",
              "        text-align: right;\n",
              "    }\n",
              "</style>\n",
              "<table border=\"1\" class=\"dataframe\">\n",
              "  <thead>\n",
              "    <tr style=\"text-align: right;\">\n",
              "      <th></th>\n",
              "      <th>0</th>\n",
              "    </tr>\n",
              "  </thead>\n",
              "  <tbody>\n",
              "    <tr>\n",
              "      <th>sag_sensor_x</th>\n",
              "      <td>0</td>\n",
              "    </tr>\n",
              "    <tr>\n",
              "      <th>sag_sensor_y</th>\n",
              "      <td>0</td>\n",
              "    </tr>\n",
              "    <tr>\n",
              "      <th>sol_sensor_x</th>\n",
              "      <td>0</td>\n",
              "    </tr>\n",
              "    <tr>\n",
              "      <th>sol_sensor_y</th>\n",
              "      <td>0</td>\n",
              "    </tr>\n",
              "    <tr>\n",
              "      <th>sol_sensor_z</th>\n",
              "      <td>0</td>\n",
              "    </tr>\n",
              "    <tr>\n",
              "      <th>date</th>\n",
              "      <td>0</td>\n",
              "    </tr>\n",
              "  </tbody>\n",
              "</table>\n",
              "</div><br><label><b>dtype:</b> int64</label>"
            ]
          },
          "metadata": {},
          "execution_count": 24
        }
      ]
    },
    {
      "cell_type": "code",
      "source": [
        "# ortalama ve standart sapma ( ancak tarih sütunu olduğundan bu değer hesaplanamıyor. Bu yüzden tarih sütununu kaldıralım.)\n",
        "\n",
        "_data1 = data1.drop(columns=[\"date\"])\n",
        "\n",
        "_data1.columns"
      ],
      "metadata": {
        "colab": {
          "base_uri": "https://localhost:8080/"
        },
        "id": "QA5YjIaTzxXd",
        "outputId": "a8c453b2-c684-443b-a6a9-47870da7a023"
      },
      "execution_count": null,
      "outputs": [
        {
          "output_type": "execute_result",
          "data": {
            "text/plain": [
              "Index(['sag_sensor_x', 'sag_sensor_y', 'sol_sensor_x', 'sol_sensor_y',\n",
              "       'sol_sensor_z'],\n",
              "      dtype='object')"
            ]
          },
          "metadata": {},
          "execution_count": 29
        }
      ]
    },
    {
      "cell_type": "code",
      "source": [
        "_data1.mean()"
      ],
      "metadata": {
        "colab": {
          "base_uri": "https://localhost:8080/",
          "height": 241
        },
        "id": "0jz41dTVz62k",
        "outputId": "bf5ba2e1-1246-44da-c905-c26b6642578f"
      },
      "execution_count": null,
      "outputs": [
        {
          "output_type": "execute_result",
          "data": {
            "text/plain": [
              "sag_sensor_x    10.247816\n",
              "sag_sensor_y    13.490883\n",
              "sol_sensor_x    95.682599\n",
              "sol_sensor_y    60.728625\n",
              "sol_sensor_z    95.429899\n",
              "dtype: float64"
            ],
            "text/html": [
              "<div>\n",
              "<style scoped>\n",
              "    .dataframe tbody tr th:only-of-type {\n",
              "        vertical-align: middle;\n",
              "    }\n",
              "\n",
              "    .dataframe tbody tr th {\n",
              "        vertical-align: top;\n",
              "    }\n",
              "\n",
              "    .dataframe thead th {\n",
              "        text-align: right;\n",
              "    }\n",
              "</style>\n",
              "<table border=\"1\" class=\"dataframe\">\n",
              "  <thead>\n",
              "    <tr style=\"text-align: right;\">\n",
              "      <th></th>\n",
              "      <th>0</th>\n",
              "    </tr>\n",
              "  </thead>\n",
              "  <tbody>\n",
              "    <tr>\n",
              "      <th>sag_sensor_x</th>\n",
              "      <td>10.247816</td>\n",
              "    </tr>\n",
              "    <tr>\n",
              "      <th>sag_sensor_y</th>\n",
              "      <td>13.490883</td>\n",
              "    </tr>\n",
              "    <tr>\n",
              "      <th>sol_sensor_x</th>\n",
              "      <td>95.682599</td>\n",
              "    </tr>\n",
              "    <tr>\n",
              "      <th>sol_sensor_y</th>\n",
              "      <td>60.728625</td>\n",
              "    </tr>\n",
              "    <tr>\n",
              "      <th>sol_sensor_z</th>\n",
              "      <td>95.429899</td>\n",
              "    </tr>\n",
              "  </tbody>\n",
              "</table>\n",
              "</div><br><label><b>dtype:</b> float64</label>"
            ]
          },
          "metadata": {},
          "execution_count": 30
        }
      ]
    },
    {
      "cell_type": "code",
      "source": [
        "_data1.std()"
      ],
      "metadata": {
        "colab": {
          "base_uri": "https://localhost:8080/",
          "height": 241
        },
        "id": "wlMpcTTc03Ck",
        "outputId": "5203c423-c4dc-467d-f5c8-568c77f057f4"
      },
      "execution_count": null,
      "outputs": [
        {
          "output_type": "execute_result",
          "data": {
            "text/plain": [
              "sag_sensor_x    38.242932\n",
              "sag_sensor_y    43.384296\n",
              "sol_sensor_x    18.623667\n",
              "sol_sensor_y    96.052789\n",
              "sol_sensor_z    18.082114\n",
              "dtype: float64"
            ],
            "text/html": [
              "<div>\n",
              "<style scoped>\n",
              "    .dataframe tbody tr th:only-of-type {\n",
              "        vertical-align: middle;\n",
              "    }\n",
              "\n",
              "    .dataframe tbody tr th {\n",
              "        vertical-align: top;\n",
              "    }\n",
              "\n",
              "    .dataframe thead th {\n",
              "        text-align: right;\n",
              "    }\n",
              "</style>\n",
              "<table border=\"1\" class=\"dataframe\">\n",
              "  <thead>\n",
              "    <tr style=\"text-align: right;\">\n",
              "      <th></th>\n",
              "      <th>0</th>\n",
              "    </tr>\n",
              "  </thead>\n",
              "  <tbody>\n",
              "    <tr>\n",
              "      <th>sag_sensor_x</th>\n",
              "      <td>38.242932</td>\n",
              "    </tr>\n",
              "    <tr>\n",
              "      <th>sag_sensor_y</th>\n",
              "      <td>43.384296</td>\n",
              "    </tr>\n",
              "    <tr>\n",
              "      <th>sol_sensor_x</th>\n",
              "      <td>18.623667</td>\n",
              "    </tr>\n",
              "    <tr>\n",
              "      <th>sol_sensor_y</th>\n",
              "      <td>96.052789</td>\n",
              "    </tr>\n",
              "    <tr>\n",
              "      <th>sol_sensor_z</th>\n",
              "      <td>18.082114</td>\n",
              "    </tr>\n",
              "  </tbody>\n",
              "</table>\n",
              "</div><br><label><b>dtype:</b> float64</label>"
            ]
          },
          "metadata": {},
          "execution_count": 31
        }
      ]
    },
    {
      "cell_type": "code",
      "source": [
        "#sütunlar arası korelasyon\n",
        "\n",
        "_data1.corr()"
      ],
      "metadata": {
        "colab": {
          "base_uri": "https://localhost:8080/",
          "height": 206
        },
        "id": "r85RTSZ608t7",
        "outputId": "8f1181d9-9264-4ccc-e7dc-a8a668c5b4be"
      },
      "execution_count": null,
      "outputs": [
        {
          "output_type": "execute_result",
          "data": {
            "text/plain": [
              "              sag_sensor_x  sag_sensor_y  sol_sensor_x  sol_sensor_y  \\\n",
              "sag_sensor_x      1.000000      0.017731      0.203043      0.324730   \n",
              "sag_sensor_y      0.017731      1.000000     -0.379256      0.377934   \n",
              "sol_sensor_x      0.203043     -0.379256      1.000000      0.526814   \n",
              "sol_sensor_y      0.324730      0.377934      0.526814      1.000000   \n",
              "sol_sensor_z      0.197357     -0.384279      0.999425      0.524339   \n",
              "\n",
              "              sol_sensor_z  \n",
              "sag_sensor_x      0.197357  \n",
              "sag_sensor_y     -0.384279  \n",
              "sol_sensor_x      0.999425  \n",
              "sol_sensor_y      0.524339  \n",
              "sol_sensor_z      1.000000  "
            ],
            "text/html": [
              "\n",
              "  <div id=\"df-32b52892-99e6-4c35-8418-475e80e48039\" class=\"colab-df-container\">\n",
              "    <div>\n",
              "<style scoped>\n",
              "    .dataframe tbody tr th:only-of-type {\n",
              "        vertical-align: middle;\n",
              "    }\n",
              "\n",
              "    .dataframe tbody tr th {\n",
              "        vertical-align: top;\n",
              "    }\n",
              "\n",
              "    .dataframe thead th {\n",
              "        text-align: right;\n",
              "    }\n",
              "</style>\n",
              "<table border=\"1\" class=\"dataframe\">\n",
              "  <thead>\n",
              "    <tr style=\"text-align: right;\">\n",
              "      <th></th>\n",
              "      <th>sag_sensor_x</th>\n",
              "      <th>sag_sensor_y</th>\n",
              "      <th>sol_sensor_x</th>\n",
              "      <th>sol_sensor_y</th>\n",
              "      <th>sol_sensor_z</th>\n",
              "    </tr>\n",
              "  </thead>\n",
              "  <tbody>\n",
              "    <tr>\n",
              "      <th>sag_sensor_x</th>\n",
              "      <td>1.000000</td>\n",
              "      <td>0.017731</td>\n",
              "      <td>0.203043</td>\n",
              "      <td>0.324730</td>\n",
              "      <td>0.197357</td>\n",
              "    </tr>\n",
              "    <tr>\n",
              "      <th>sag_sensor_y</th>\n",
              "      <td>0.017731</td>\n",
              "      <td>1.000000</td>\n",
              "      <td>-0.379256</td>\n",
              "      <td>0.377934</td>\n",
              "      <td>-0.384279</td>\n",
              "    </tr>\n",
              "    <tr>\n",
              "      <th>sol_sensor_x</th>\n",
              "      <td>0.203043</td>\n",
              "      <td>-0.379256</td>\n",
              "      <td>1.000000</td>\n",
              "      <td>0.526814</td>\n",
              "      <td>0.999425</td>\n",
              "    </tr>\n",
              "    <tr>\n",
              "      <th>sol_sensor_y</th>\n",
              "      <td>0.324730</td>\n",
              "      <td>0.377934</td>\n",
              "      <td>0.526814</td>\n",
              "      <td>1.000000</td>\n",
              "      <td>0.524339</td>\n",
              "    </tr>\n",
              "    <tr>\n",
              "      <th>sol_sensor_z</th>\n",
              "      <td>0.197357</td>\n",
              "      <td>-0.384279</td>\n",
              "      <td>0.999425</td>\n",
              "      <td>0.524339</td>\n",
              "      <td>1.000000</td>\n",
              "    </tr>\n",
              "  </tbody>\n",
              "</table>\n",
              "</div>\n",
              "    <div class=\"colab-df-buttons\">\n",
              "\n",
              "  <div class=\"colab-df-container\">\n",
              "    <button class=\"colab-df-convert\" onclick=\"convertToInteractive('df-32b52892-99e6-4c35-8418-475e80e48039')\"\n",
              "            title=\"Convert this dataframe to an interactive table.\"\n",
              "            style=\"display:none;\">\n",
              "\n",
              "  <svg xmlns=\"http://www.w3.org/2000/svg\" height=\"24px\" viewBox=\"0 -960 960 960\">\n",
              "    <path d=\"M120-120v-720h720v720H120Zm60-500h600v-160H180v160Zm220 220h160v-160H400v160Zm0 220h160v-160H400v160ZM180-400h160v-160H180v160Zm440 0h160v-160H620v160ZM180-180h160v-160H180v160Zm440 0h160v-160H620v160Z\"/>\n",
              "  </svg>\n",
              "    </button>\n",
              "\n",
              "  <style>\n",
              "    .colab-df-container {\n",
              "      display:flex;\n",
              "      gap: 12px;\n",
              "    }\n",
              "\n",
              "    .colab-df-convert {\n",
              "      background-color: #E8F0FE;\n",
              "      border: none;\n",
              "      border-radius: 50%;\n",
              "      cursor: pointer;\n",
              "      display: none;\n",
              "      fill: #1967D2;\n",
              "      height: 32px;\n",
              "      padding: 0 0 0 0;\n",
              "      width: 32px;\n",
              "    }\n",
              "\n",
              "    .colab-df-convert:hover {\n",
              "      background-color: #E2EBFA;\n",
              "      box-shadow: 0px 1px 2px rgba(60, 64, 67, 0.3), 0px 1px 3px 1px rgba(60, 64, 67, 0.15);\n",
              "      fill: #174EA6;\n",
              "    }\n",
              "\n",
              "    .colab-df-buttons div {\n",
              "      margin-bottom: 4px;\n",
              "    }\n",
              "\n",
              "    [theme=dark] .colab-df-convert {\n",
              "      background-color: #3B4455;\n",
              "      fill: #D2E3FC;\n",
              "    }\n",
              "\n",
              "    [theme=dark] .colab-df-convert:hover {\n",
              "      background-color: #434B5C;\n",
              "      box-shadow: 0px 1px 3px 1px rgba(0, 0, 0, 0.15);\n",
              "      filter: drop-shadow(0px 1px 2px rgba(0, 0, 0, 0.3));\n",
              "      fill: #FFFFFF;\n",
              "    }\n",
              "  </style>\n",
              "\n",
              "    <script>\n",
              "      const buttonEl =\n",
              "        document.querySelector('#df-32b52892-99e6-4c35-8418-475e80e48039 button.colab-df-convert');\n",
              "      buttonEl.style.display =\n",
              "        google.colab.kernel.accessAllowed ? 'block' : 'none';\n",
              "\n",
              "      async function convertToInteractive(key) {\n",
              "        const element = document.querySelector('#df-32b52892-99e6-4c35-8418-475e80e48039');\n",
              "        const dataTable =\n",
              "          await google.colab.kernel.invokeFunction('convertToInteractive',\n",
              "                                                    [key], {});\n",
              "        if (!dataTable) return;\n",
              "\n",
              "        const docLinkHtml = 'Like what you see? Visit the ' +\n",
              "          '<a target=\"_blank\" href=https://colab.research.google.com/notebooks/data_table.ipynb>data table notebook</a>'\n",
              "          + ' to learn more about interactive tables.';\n",
              "        element.innerHTML = '';\n",
              "        dataTable['output_type'] = 'display_data';\n",
              "        await google.colab.output.renderOutput(dataTable, element);\n",
              "        const docLink = document.createElement('div');\n",
              "        docLink.innerHTML = docLinkHtml;\n",
              "        element.appendChild(docLink);\n",
              "      }\n",
              "    </script>\n",
              "  </div>\n",
              "\n",
              "\n",
              "    <div id=\"df-ec5a991e-9626-455c-806d-a170f4548c2c\">\n",
              "      <button class=\"colab-df-quickchart\" onclick=\"quickchart('df-ec5a991e-9626-455c-806d-a170f4548c2c')\"\n",
              "                title=\"Suggest charts\"\n",
              "                style=\"display:none;\">\n",
              "\n",
              "<svg xmlns=\"http://www.w3.org/2000/svg\" height=\"24px\"viewBox=\"0 0 24 24\"\n",
              "     width=\"24px\">\n",
              "    <g>\n",
              "        <path d=\"M19 3H5c-1.1 0-2 .9-2 2v14c0 1.1.9 2 2 2h14c1.1 0 2-.9 2-2V5c0-1.1-.9-2-2-2zM9 17H7v-7h2v7zm4 0h-2V7h2v10zm4 0h-2v-4h2v4z\"/>\n",
              "    </g>\n",
              "</svg>\n",
              "      </button>\n",
              "\n",
              "<style>\n",
              "  .colab-df-quickchart {\n",
              "      --bg-color: #E8F0FE;\n",
              "      --fill-color: #1967D2;\n",
              "      --hover-bg-color: #E2EBFA;\n",
              "      --hover-fill-color: #174EA6;\n",
              "      --disabled-fill-color: #AAA;\n",
              "      --disabled-bg-color: #DDD;\n",
              "  }\n",
              "\n",
              "  [theme=dark] .colab-df-quickchart {\n",
              "      --bg-color: #3B4455;\n",
              "      --fill-color: #D2E3FC;\n",
              "      --hover-bg-color: #434B5C;\n",
              "      --hover-fill-color: #FFFFFF;\n",
              "      --disabled-bg-color: #3B4455;\n",
              "      --disabled-fill-color: #666;\n",
              "  }\n",
              "\n",
              "  .colab-df-quickchart {\n",
              "    background-color: var(--bg-color);\n",
              "    border: none;\n",
              "    border-radius: 50%;\n",
              "    cursor: pointer;\n",
              "    display: none;\n",
              "    fill: var(--fill-color);\n",
              "    height: 32px;\n",
              "    padding: 0;\n",
              "    width: 32px;\n",
              "  }\n",
              "\n",
              "  .colab-df-quickchart:hover {\n",
              "    background-color: var(--hover-bg-color);\n",
              "    box-shadow: 0 1px 2px rgba(60, 64, 67, 0.3), 0 1px 3px 1px rgba(60, 64, 67, 0.15);\n",
              "    fill: var(--button-hover-fill-color);\n",
              "  }\n",
              "\n",
              "  .colab-df-quickchart-complete:disabled,\n",
              "  .colab-df-quickchart-complete:disabled:hover {\n",
              "    background-color: var(--disabled-bg-color);\n",
              "    fill: var(--disabled-fill-color);\n",
              "    box-shadow: none;\n",
              "  }\n",
              "\n",
              "  .colab-df-spinner {\n",
              "    border: 2px solid var(--fill-color);\n",
              "    border-color: transparent;\n",
              "    border-bottom-color: var(--fill-color);\n",
              "    animation:\n",
              "      spin 1s steps(1) infinite;\n",
              "  }\n",
              "\n",
              "  @keyframes spin {\n",
              "    0% {\n",
              "      border-color: transparent;\n",
              "      border-bottom-color: var(--fill-color);\n",
              "      border-left-color: var(--fill-color);\n",
              "    }\n",
              "    20% {\n",
              "      border-color: transparent;\n",
              "      border-left-color: var(--fill-color);\n",
              "      border-top-color: var(--fill-color);\n",
              "    }\n",
              "    30% {\n",
              "      border-color: transparent;\n",
              "      border-left-color: var(--fill-color);\n",
              "      border-top-color: var(--fill-color);\n",
              "      border-right-color: var(--fill-color);\n",
              "    }\n",
              "    40% {\n",
              "      border-color: transparent;\n",
              "      border-right-color: var(--fill-color);\n",
              "      border-top-color: var(--fill-color);\n",
              "    }\n",
              "    60% {\n",
              "      border-color: transparent;\n",
              "      border-right-color: var(--fill-color);\n",
              "    }\n",
              "    80% {\n",
              "      border-color: transparent;\n",
              "      border-right-color: var(--fill-color);\n",
              "      border-bottom-color: var(--fill-color);\n",
              "    }\n",
              "    90% {\n",
              "      border-color: transparent;\n",
              "      border-bottom-color: var(--fill-color);\n",
              "    }\n",
              "  }\n",
              "</style>\n",
              "\n",
              "      <script>\n",
              "        async function quickchart(key) {\n",
              "          const quickchartButtonEl =\n",
              "            document.querySelector('#' + key + ' button');\n",
              "          quickchartButtonEl.disabled = true;  // To prevent multiple clicks.\n",
              "          quickchartButtonEl.classList.add('colab-df-spinner');\n",
              "          try {\n",
              "            const charts = await google.colab.kernel.invokeFunction(\n",
              "                'suggestCharts', [key], {});\n",
              "          } catch (error) {\n",
              "            console.error('Error during call to suggestCharts:', error);\n",
              "          }\n",
              "          quickchartButtonEl.classList.remove('colab-df-spinner');\n",
              "          quickchartButtonEl.classList.add('colab-df-quickchart-complete');\n",
              "        }\n",
              "        (() => {\n",
              "          let quickchartButtonEl =\n",
              "            document.querySelector('#df-ec5a991e-9626-455c-806d-a170f4548c2c button');\n",
              "          quickchartButtonEl.style.display =\n",
              "            google.colab.kernel.accessAllowed ? 'block' : 'none';\n",
              "        })();\n",
              "      </script>\n",
              "    </div>\n",
              "\n",
              "    </div>\n",
              "  </div>\n"
            ],
            "application/vnd.google.colaboratory.intrinsic+json": {
              "type": "dataframe",
              "summary": "{\n  \"name\": \"_data1\",\n  \"rows\": 5,\n  \"fields\": [\n    {\n      \"column\": \"sag_sensor_x\",\n      \"properties\": {\n        \"dtype\": \"number\",\n        \"std\": 0.38027200487549523,\n        \"min\": 0.01773136156053999,\n        \"max\": 1.0,\n        \"num_unique_values\": 5,\n        \"samples\": [\n          0.01773136156053999,\n          0.19735688782225289,\n          0.2030426455348902\n        ],\n        \"semantic_type\": \"\",\n        \"description\": \"\"\n      }\n    },\n    {\n      \"column\": \"sag_sensor_y\",\n      \"properties\": {\n        \"dtype\": \"number\",\n        \"std\": 0.5819656240369314,\n        \"min\": -0.3842790101883768,\n        \"max\": 1.0,\n        \"num_unique_values\": 5,\n        \"samples\": [\n          1.0,\n          -0.3842790101883768,\n          -0.37925560344591425\n        ],\n        \"semantic_type\": \"\",\n        \"description\": \"\"\n      }\n    },\n    {\n      \"column\": \"sol_sensor_x\",\n      \"properties\": {\n        \"dtype\": \"number\",\n        \"std\": 0.5824345523211982,\n        \"min\": -0.37925560344591425,\n        \"max\": 1.0,\n        \"num_unique_values\": 5,\n        \"samples\": [\n          -0.37925560344591425,\n          0.9994250565552253,\n          1.0\n        ],\n        \"semantic_type\": \"\",\n        \"description\": \"\"\n      }\n    },\n    {\n      \"column\": \"sol_sensor_y\",\n      \"properties\": {\n        \"dtype\": \"number\",\n        \"std\": 0.26647991568286467,\n        \"min\": 0.3247304316900711,\n        \"max\": 1.0,\n        \"num_unique_values\": 5,\n        \"samples\": [\n          0.3779342520442494,\n          0.5243386286554519,\n          0.5268140078756169\n        ],\n        \"semantic_type\": \"\",\n        \"description\": \"\"\n      }\n    },\n    {\n      \"column\": \"sol_sensor_z\",\n      \"properties\": {\n        \"dtype\": \"number\",\n        \"std\": 0.5848580686896147,\n        \"min\": -0.3842790101883768,\n        \"max\": 1.0,\n        \"num_unique_values\": 5,\n        \"samples\": [\n          -0.3842790101883768,\n          1.0,\n          0.9994250565552253\n        ],\n        \"semantic_type\": \"\",\n        \"description\": \"\"\n      }\n    }\n  ]\n}"
            }
          },
          "metadata": {},
          "execution_count": 32
        }
      ]
    },
    {
      "cell_type": "code",
      "source": [
        "# satır ve sütun üzerinde bir fonksiyon çalıştırmak.\n",
        "\n",
        "_data1[\"sag_sensor_x\"].apply(np.log1p) # log(x + 1) formülünü uygular"
      ],
      "metadata": {
        "colab": {
          "base_uri": "https://localhost:8080/",
          "height": 489
        },
        "id": "hETzUbrM1FkU",
        "outputId": "ee76a08f-8482-43c1-acac-167dec6b888f"
      },
      "execution_count": null,
      "outputs": [
        {
          "output_type": "execute_result",
          "data": {
            "text/plain": [
              "sag_sensor_z\n",
              "85.0    4.174387\n",
              "84.5    4.043051\n",
              "83.0    2.564949\n",
              "81.0    3.020425\n",
              "83.0    2.351375\n",
              "          ...   \n",
              "62.0    2.890372\n",
              "61.0    2.890372\n",
              "61.0    2.890372\n",
              "61.0    2.833213\n",
              "62.0    2.890372\n",
              "Name: sag_sensor_x, Length: 5649, dtype: float64"
            ],
            "text/html": [
              "<div>\n",
              "<style scoped>\n",
              "    .dataframe tbody tr th:only-of-type {\n",
              "        vertical-align: middle;\n",
              "    }\n",
              "\n",
              "    .dataframe tbody tr th {\n",
              "        vertical-align: top;\n",
              "    }\n",
              "\n",
              "    .dataframe thead th {\n",
              "        text-align: right;\n",
              "    }\n",
              "</style>\n",
              "<table border=\"1\" class=\"dataframe\">\n",
              "  <thead>\n",
              "    <tr style=\"text-align: right;\">\n",
              "      <th></th>\n",
              "      <th>sag_sensor_x</th>\n",
              "    </tr>\n",
              "    <tr>\n",
              "      <th>sag_sensor_z</th>\n",
              "      <th></th>\n",
              "    </tr>\n",
              "  </thead>\n",
              "  <tbody>\n",
              "    <tr>\n",
              "      <th>85.0</th>\n",
              "      <td>4.174387</td>\n",
              "    </tr>\n",
              "    <tr>\n",
              "      <th>84.5</th>\n",
              "      <td>4.043051</td>\n",
              "    </tr>\n",
              "    <tr>\n",
              "      <th>83.0</th>\n",
              "      <td>2.564949</td>\n",
              "    </tr>\n",
              "    <tr>\n",
              "      <th>81.0</th>\n",
              "      <td>3.020425</td>\n",
              "    </tr>\n",
              "    <tr>\n",
              "      <th>83.0</th>\n",
              "      <td>2.351375</td>\n",
              "    </tr>\n",
              "    <tr>\n",
              "      <th>...</th>\n",
              "      <td>...</td>\n",
              "    </tr>\n",
              "    <tr>\n",
              "      <th>62.0</th>\n",
              "      <td>2.890372</td>\n",
              "    </tr>\n",
              "    <tr>\n",
              "      <th>61.0</th>\n",
              "      <td>2.890372</td>\n",
              "    </tr>\n",
              "    <tr>\n",
              "      <th>61.0</th>\n",
              "      <td>2.890372</td>\n",
              "    </tr>\n",
              "    <tr>\n",
              "      <th>61.0</th>\n",
              "      <td>2.833213</td>\n",
              "    </tr>\n",
              "    <tr>\n",
              "      <th>62.0</th>\n",
              "      <td>2.890372</td>\n",
              "    </tr>\n",
              "  </tbody>\n",
              "</table>\n",
              "<p>5649 rows × 1 columns</p>\n",
              "</div><br><label><b>dtype:</b> float64</label>"
            ]
          },
          "metadata": {},
          "execution_count": 33
        }
      ]
    },
    {
      "cell_type": "code",
      "source": [
        "_data1.query(\"sag_sensor_x > 50 and sol_sensor_y < -100\") # SQL benzeri filtreleme yapılır."
      ],
      "metadata": {
        "colab": {
          "base_uri": "https://localhost:8080/",
          "height": 455
        },
        "id": "xoZuMBfi1jf0",
        "outputId": "2ba45324-a408-4f6b-ea31-c37c8114f54f"
      },
      "execution_count": null,
      "outputs": [
        {
          "output_type": "execute_result",
          "data": {
            "text/plain": [
              "              sag_sensor_x  sag_sensor_y  sol_sensor_x  sol_sensor_y  \\\n",
              "sag_sensor_z                                                           \n",
              "85.0                  64.0         -85.0          99.0        -143.5   \n",
              "84.5                  56.0         -84.5          98.5        -145.5   \n",
              "88.5                  69.0         -88.5          98.0        -147.5   \n",
              "86.0                  63.5         -86.0          97.5        -139.5   \n",
              "86.5                  71.0         -86.0          97.0        -136.5   \n",
              "...                    ...           ...           ...           ...   \n",
              "68.0                  56.0         -63.5          95.5        -124.0   \n",
              "71.0                  55.0         -68.0          96.0        -129.0   \n",
              "68.5                  50.5         -66.0          97.5        -133.5   \n",
              "81.0                  69.0         -81.0          92.0        -120.0   \n",
              "71.0                  51.0         -69.0          91.0        -105.0   \n",
              "\n",
              "              sol_sensor_z  \n",
              "sag_sensor_z                \n",
              "85.0                  99.0  \n",
              "84.5                  98.5  \n",
              "88.5                  98.0  \n",
              "86.0                  97.5  \n",
              "86.5                  97.0  \n",
              "...                    ...  \n",
              "68.0                  95.5  \n",
              "71.0                  96.0  \n",
              "68.5                  97.5  \n",
              "81.0                  92.0  \n",
              "71.0                  91.0  \n",
              "\n",
              "[95 rows x 5 columns]"
            ],
            "text/html": [
              "\n",
              "  <div id=\"df-b21a26b6-6b5e-4bde-ac95-1e77afab3807\" class=\"colab-df-container\">\n",
              "    <div>\n",
              "<style scoped>\n",
              "    .dataframe tbody tr th:only-of-type {\n",
              "        vertical-align: middle;\n",
              "    }\n",
              "\n",
              "    .dataframe tbody tr th {\n",
              "        vertical-align: top;\n",
              "    }\n",
              "\n",
              "    .dataframe thead th {\n",
              "        text-align: right;\n",
              "    }\n",
              "</style>\n",
              "<table border=\"1\" class=\"dataframe\">\n",
              "  <thead>\n",
              "    <tr style=\"text-align: right;\">\n",
              "      <th></th>\n",
              "      <th>sag_sensor_x</th>\n",
              "      <th>sag_sensor_y</th>\n",
              "      <th>sol_sensor_x</th>\n",
              "      <th>sol_sensor_y</th>\n",
              "      <th>sol_sensor_z</th>\n",
              "    </tr>\n",
              "    <tr>\n",
              "      <th>sag_sensor_z</th>\n",
              "      <th></th>\n",
              "      <th></th>\n",
              "      <th></th>\n",
              "      <th></th>\n",
              "      <th></th>\n",
              "    </tr>\n",
              "  </thead>\n",
              "  <tbody>\n",
              "    <tr>\n",
              "      <th>85.0</th>\n",
              "      <td>64.0</td>\n",
              "      <td>-85.0</td>\n",
              "      <td>99.0</td>\n",
              "      <td>-143.5</td>\n",
              "      <td>99.0</td>\n",
              "    </tr>\n",
              "    <tr>\n",
              "      <th>84.5</th>\n",
              "      <td>56.0</td>\n",
              "      <td>-84.5</td>\n",
              "      <td>98.5</td>\n",
              "      <td>-145.5</td>\n",
              "      <td>98.5</td>\n",
              "    </tr>\n",
              "    <tr>\n",
              "      <th>88.5</th>\n",
              "      <td>69.0</td>\n",
              "      <td>-88.5</td>\n",
              "      <td>98.0</td>\n",
              "      <td>-147.5</td>\n",
              "      <td>98.0</td>\n",
              "    </tr>\n",
              "    <tr>\n",
              "      <th>86.0</th>\n",
              "      <td>63.5</td>\n",
              "      <td>-86.0</td>\n",
              "      <td>97.5</td>\n",
              "      <td>-139.5</td>\n",
              "      <td>97.5</td>\n",
              "    </tr>\n",
              "    <tr>\n",
              "      <th>86.5</th>\n",
              "      <td>71.0</td>\n",
              "      <td>-86.0</td>\n",
              "      <td>97.0</td>\n",
              "      <td>-136.5</td>\n",
              "      <td>97.0</td>\n",
              "    </tr>\n",
              "    <tr>\n",
              "      <th>...</th>\n",
              "      <td>...</td>\n",
              "      <td>...</td>\n",
              "      <td>...</td>\n",
              "      <td>...</td>\n",
              "      <td>...</td>\n",
              "    </tr>\n",
              "    <tr>\n",
              "      <th>68.0</th>\n",
              "      <td>56.0</td>\n",
              "      <td>-63.5</td>\n",
              "      <td>95.5</td>\n",
              "      <td>-124.0</td>\n",
              "      <td>95.5</td>\n",
              "    </tr>\n",
              "    <tr>\n",
              "      <th>71.0</th>\n",
              "      <td>55.0</td>\n",
              "      <td>-68.0</td>\n",
              "      <td>96.0</td>\n",
              "      <td>-129.0</td>\n",
              "      <td>96.0</td>\n",
              "    </tr>\n",
              "    <tr>\n",
              "      <th>68.5</th>\n",
              "      <td>50.5</td>\n",
              "      <td>-66.0</td>\n",
              "      <td>97.5</td>\n",
              "      <td>-133.5</td>\n",
              "      <td>97.5</td>\n",
              "    </tr>\n",
              "    <tr>\n",
              "      <th>81.0</th>\n",
              "      <td>69.0</td>\n",
              "      <td>-81.0</td>\n",
              "      <td>92.0</td>\n",
              "      <td>-120.0</td>\n",
              "      <td>92.0</td>\n",
              "    </tr>\n",
              "    <tr>\n",
              "      <th>71.0</th>\n",
              "      <td>51.0</td>\n",
              "      <td>-69.0</td>\n",
              "      <td>91.0</td>\n",
              "      <td>-105.0</td>\n",
              "      <td>91.0</td>\n",
              "    </tr>\n",
              "  </tbody>\n",
              "</table>\n",
              "<p>95 rows × 5 columns</p>\n",
              "</div>\n",
              "    <div class=\"colab-df-buttons\">\n",
              "\n",
              "  <div class=\"colab-df-container\">\n",
              "    <button class=\"colab-df-convert\" onclick=\"convertToInteractive('df-b21a26b6-6b5e-4bde-ac95-1e77afab3807')\"\n",
              "            title=\"Convert this dataframe to an interactive table.\"\n",
              "            style=\"display:none;\">\n",
              "\n",
              "  <svg xmlns=\"http://www.w3.org/2000/svg\" height=\"24px\" viewBox=\"0 -960 960 960\">\n",
              "    <path d=\"M120-120v-720h720v720H120Zm60-500h600v-160H180v160Zm220 220h160v-160H400v160Zm0 220h160v-160H400v160ZM180-400h160v-160H180v160Zm440 0h160v-160H620v160ZM180-180h160v-160H180v160Zm440 0h160v-160H620v160Z\"/>\n",
              "  </svg>\n",
              "    </button>\n",
              "\n",
              "  <style>\n",
              "    .colab-df-container {\n",
              "      display:flex;\n",
              "      gap: 12px;\n",
              "    }\n",
              "\n",
              "    .colab-df-convert {\n",
              "      background-color: #E8F0FE;\n",
              "      border: none;\n",
              "      border-radius: 50%;\n",
              "      cursor: pointer;\n",
              "      display: none;\n",
              "      fill: #1967D2;\n",
              "      height: 32px;\n",
              "      padding: 0 0 0 0;\n",
              "      width: 32px;\n",
              "    }\n",
              "\n",
              "    .colab-df-convert:hover {\n",
              "      background-color: #E2EBFA;\n",
              "      box-shadow: 0px 1px 2px rgba(60, 64, 67, 0.3), 0px 1px 3px 1px rgba(60, 64, 67, 0.15);\n",
              "      fill: #174EA6;\n",
              "    }\n",
              "\n",
              "    .colab-df-buttons div {\n",
              "      margin-bottom: 4px;\n",
              "    }\n",
              "\n",
              "    [theme=dark] .colab-df-convert {\n",
              "      background-color: #3B4455;\n",
              "      fill: #D2E3FC;\n",
              "    }\n",
              "\n",
              "    [theme=dark] .colab-df-convert:hover {\n",
              "      background-color: #434B5C;\n",
              "      box-shadow: 0px 1px 3px 1px rgba(0, 0, 0, 0.15);\n",
              "      filter: drop-shadow(0px 1px 2px rgba(0, 0, 0, 0.3));\n",
              "      fill: #FFFFFF;\n",
              "    }\n",
              "  </style>\n",
              "\n",
              "    <script>\n",
              "      const buttonEl =\n",
              "        document.querySelector('#df-b21a26b6-6b5e-4bde-ac95-1e77afab3807 button.colab-df-convert');\n",
              "      buttonEl.style.display =\n",
              "        google.colab.kernel.accessAllowed ? 'block' : 'none';\n",
              "\n",
              "      async function convertToInteractive(key) {\n",
              "        const element = document.querySelector('#df-b21a26b6-6b5e-4bde-ac95-1e77afab3807');\n",
              "        const dataTable =\n",
              "          await google.colab.kernel.invokeFunction('convertToInteractive',\n",
              "                                                    [key], {});\n",
              "        if (!dataTable) return;\n",
              "\n",
              "        const docLinkHtml = 'Like what you see? Visit the ' +\n",
              "          '<a target=\"_blank\" href=https://colab.research.google.com/notebooks/data_table.ipynb>data table notebook</a>'\n",
              "          + ' to learn more about interactive tables.';\n",
              "        element.innerHTML = '';\n",
              "        dataTable['output_type'] = 'display_data';\n",
              "        await google.colab.output.renderOutput(dataTable, element);\n",
              "        const docLink = document.createElement('div');\n",
              "        docLink.innerHTML = docLinkHtml;\n",
              "        element.appendChild(docLink);\n",
              "      }\n",
              "    </script>\n",
              "  </div>\n",
              "\n",
              "\n",
              "    <div id=\"df-cc312a10-0a76-4e9b-9e92-d00b54b143fc\">\n",
              "      <button class=\"colab-df-quickchart\" onclick=\"quickchart('df-cc312a10-0a76-4e9b-9e92-d00b54b143fc')\"\n",
              "                title=\"Suggest charts\"\n",
              "                style=\"display:none;\">\n",
              "\n",
              "<svg xmlns=\"http://www.w3.org/2000/svg\" height=\"24px\"viewBox=\"0 0 24 24\"\n",
              "     width=\"24px\">\n",
              "    <g>\n",
              "        <path d=\"M19 3H5c-1.1 0-2 .9-2 2v14c0 1.1.9 2 2 2h14c1.1 0 2-.9 2-2V5c0-1.1-.9-2-2-2zM9 17H7v-7h2v7zm4 0h-2V7h2v10zm4 0h-2v-4h2v4z\"/>\n",
              "    </g>\n",
              "</svg>\n",
              "      </button>\n",
              "\n",
              "<style>\n",
              "  .colab-df-quickchart {\n",
              "      --bg-color: #E8F0FE;\n",
              "      --fill-color: #1967D2;\n",
              "      --hover-bg-color: #E2EBFA;\n",
              "      --hover-fill-color: #174EA6;\n",
              "      --disabled-fill-color: #AAA;\n",
              "      --disabled-bg-color: #DDD;\n",
              "  }\n",
              "\n",
              "  [theme=dark] .colab-df-quickchart {\n",
              "      --bg-color: #3B4455;\n",
              "      --fill-color: #D2E3FC;\n",
              "      --hover-bg-color: #434B5C;\n",
              "      --hover-fill-color: #FFFFFF;\n",
              "      --disabled-bg-color: #3B4455;\n",
              "      --disabled-fill-color: #666;\n",
              "  }\n",
              "\n",
              "  .colab-df-quickchart {\n",
              "    background-color: var(--bg-color);\n",
              "    border: none;\n",
              "    border-radius: 50%;\n",
              "    cursor: pointer;\n",
              "    display: none;\n",
              "    fill: var(--fill-color);\n",
              "    height: 32px;\n",
              "    padding: 0;\n",
              "    width: 32px;\n",
              "  }\n",
              "\n",
              "  .colab-df-quickchart:hover {\n",
              "    background-color: var(--hover-bg-color);\n",
              "    box-shadow: 0 1px 2px rgba(60, 64, 67, 0.3), 0 1px 3px 1px rgba(60, 64, 67, 0.15);\n",
              "    fill: var(--button-hover-fill-color);\n",
              "  }\n",
              "\n",
              "  .colab-df-quickchart-complete:disabled,\n",
              "  .colab-df-quickchart-complete:disabled:hover {\n",
              "    background-color: var(--disabled-bg-color);\n",
              "    fill: var(--disabled-fill-color);\n",
              "    box-shadow: none;\n",
              "  }\n",
              "\n",
              "  .colab-df-spinner {\n",
              "    border: 2px solid var(--fill-color);\n",
              "    border-color: transparent;\n",
              "    border-bottom-color: var(--fill-color);\n",
              "    animation:\n",
              "      spin 1s steps(1) infinite;\n",
              "  }\n",
              "\n",
              "  @keyframes spin {\n",
              "    0% {\n",
              "      border-color: transparent;\n",
              "      border-bottom-color: var(--fill-color);\n",
              "      border-left-color: var(--fill-color);\n",
              "    }\n",
              "    20% {\n",
              "      border-color: transparent;\n",
              "      border-left-color: var(--fill-color);\n",
              "      border-top-color: var(--fill-color);\n",
              "    }\n",
              "    30% {\n",
              "      border-color: transparent;\n",
              "      border-left-color: var(--fill-color);\n",
              "      border-top-color: var(--fill-color);\n",
              "      border-right-color: var(--fill-color);\n",
              "    }\n",
              "    40% {\n",
              "      border-color: transparent;\n",
              "      border-right-color: var(--fill-color);\n",
              "      border-top-color: var(--fill-color);\n",
              "    }\n",
              "    60% {\n",
              "      border-color: transparent;\n",
              "      border-right-color: var(--fill-color);\n",
              "    }\n",
              "    80% {\n",
              "      border-color: transparent;\n",
              "      border-right-color: var(--fill-color);\n",
              "      border-bottom-color: var(--fill-color);\n",
              "    }\n",
              "    90% {\n",
              "      border-color: transparent;\n",
              "      border-bottom-color: var(--fill-color);\n",
              "    }\n",
              "  }\n",
              "</style>\n",
              "\n",
              "      <script>\n",
              "        async function quickchart(key) {\n",
              "          const quickchartButtonEl =\n",
              "            document.querySelector('#' + key + ' button');\n",
              "          quickchartButtonEl.disabled = true;  // To prevent multiple clicks.\n",
              "          quickchartButtonEl.classList.add('colab-df-spinner');\n",
              "          try {\n",
              "            const charts = await google.colab.kernel.invokeFunction(\n",
              "                'suggestCharts', [key], {});\n",
              "          } catch (error) {\n",
              "            console.error('Error during call to suggestCharts:', error);\n",
              "          }\n",
              "          quickchartButtonEl.classList.remove('colab-df-spinner');\n",
              "          quickchartButtonEl.classList.add('colab-df-quickchart-complete');\n",
              "        }\n",
              "        (() => {\n",
              "          let quickchartButtonEl =\n",
              "            document.querySelector('#df-cc312a10-0a76-4e9b-9e92-d00b54b143fc button');\n",
              "          quickchartButtonEl.style.display =\n",
              "            google.colab.kernel.accessAllowed ? 'block' : 'none';\n",
              "        })();\n",
              "      </script>\n",
              "    </div>\n",
              "\n",
              "    </div>\n",
              "  </div>\n"
            ],
            "application/vnd.google.colaboratory.intrinsic+json": {
              "type": "dataframe",
              "summary": "{\n  \"name\": \"_data1\",\n  \"rows\": 95,\n  \"fields\": [\n    {\n      \"column\": \"sag_sensor_z\",\n      \"properties\": {\n        \"dtype\": \"number\",\n        \"std\": 7.9940837586291025,\n        \"min\": 68.0,\n        \"max\": 106.5,\n        \"num_unique_values\": 42,\n        \"samples\": [\n          99.5,\n          89.5,\n          90.0\n        ],\n        \"semantic_type\": \"\",\n        \"description\": \"\"\n      }\n    },\n    {\n      \"column\": \"sag_sensor_x\",\n      \"properties\": {\n        \"dtype\": \"number\",\n        \"std\": 38.531195459215084,\n        \"min\": 50.5,\n        \"max\": 180.0,\n        \"num_unique_values\": 75,\n        \"samples\": [\n          71.0,\n          130.5,\n          169.0\n        ],\n        \"semantic_type\": \"\",\n        \"description\": \"\"\n      }\n    },\n    {\n      \"column\": \"sag_sensor_y\",\n      \"properties\": {\n        \"dtype\": \"number\",\n        \"std\": 8.510154661510093,\n        \"min\": -107.0,\n        \"max\": -63.5,\n        \"num_unique_values\": 43,\n        \"samples\": [\n          -74.0,\n          -98.5,\n          -100.0\n        ],\n        \"semantic_type\": \"\",\n        \"description\": \"\"\n      }\n    },\n    {\n      \"column\": \"sol_sensor_x\",\n      \"properties\": {\n        \"dtype\": \"number\",\n        \"std\": 2.952905832488248,\n        \"min\": 91.0,\n        \"max\": 103.5,\n        \"num_unique_values\": 22,\n        \"samples\": [\n          99.0,\n          99.5,\n          92.0\n        ],\n        \"semantic_type\": \"\",\n        \"description\": \"\"\n      }\n    },\n    {\n      \"column\": \"sol_sensor_y\",\n      \"properties\": {\n        \"dtype\": \"number\",\n        \"std\": 20.778302383592578,\n        \"min\": -178.0,\n        \"max\": -101.0,\n        \"num_unique_values\": 70,\n        \"samples\": [\n          -114.5,\n          -143.5,\n          -169.5\n        ],\n        \"semantic_type\": \"\",\n        \"description\": \"\"\n      }\n    },\n    {\n      \"column\": \"sol_sensor_z\",\n      \"properties\": {\n        \"dtype\": \"number\",\n        \"std\": 2.9512462491788574,\n        \"min\": 91.0,\n        \"max\": 103.5,\n        \"num_unique_values\": 23,\n        \"samples\": [\n          99.5,\n          92.5,\n          99.0\n        ],\n        \"semantic_type\": \"\",\n        \"description\": \"\"\n      }\n    }\n  ]\n}"
            }
          },
          "metadata": {},
          "execution_count": 34
        }
      ]
    },
    {
      "cell_type": "code",
      "source": [
        "#basit grafik\n",
        "\n",
        "_data1[[\"sag_sensor_x\",\"sol_sensor_x\"]].plot()"
      ],
      "metadata": {
        "colab": {
          "base_uri": "https://localhost:8080/",
          "height": 466
        },
        "id": "R8HSoE0V2ELr",
        "outputId": "785b0072-981f-4d62-911c-e78df97c06d8"
      },
      "execution_count": null,
      "outputs": [
        {
          "output_type": "execute_result",
          "data": {
            "text/plain": [
              "<Axes: xlabel='sag_sensor_z'>"
            ]
          },
          "metadata": {},
          "execution_count": 35
        },
        {
          "output_type": "display_data",
          "data": {
            "text/plain": [
              "<Figure size 640x480 with 1 Axes>"
            ],
            "image/png": "[encoded data removed]"
          },
          "metadata": {}
        }
      ]
    },
    {
      "cell_type": "code",
      "source": [
        "veri=data1.drop(\"date\", axis=1).values # pandas verisinden date sütununu kaldırır( drop) ve diğer verileri numpy array haline getirir(.values())"
      ],
      "metadata": {
        "id": "18bw2dnw2TNk"
      },
      "execution_count": null,
      "outputs": []
    },
    {
      "cell_type": "code",
      "source": [
        "veri"
      ],
      "metadata": {
        "colab": {
          "base_uri": "https://localhost:8080/"
        },
        "id": "cGE76TYF2wED",
        "outputId": "5c4f21f9-892f-4b33-c40f-ac2d28df9011"
      },
      "execution_count": null,
      "outputs": [
        {
          "output_type": "execute_result",
          "data": {
            "text/plain": [
              "array([[  64. ,  -85. ,   99. , -143.5,   99. ],\n",
              "       [  56. ,  -84.5,   98.5, -145.5,   98.5],\n",
              "       [  12. ,  -83. ,  100. , -146. ,  100. ],\n",
              "       ...,\n",
              "       [  17. ,   61. ,   70. ,   16. ,   70. ],\n",
              "       [  16. ,   61. ,   70. ,   18. ,   70. ],\n",
              "       [  17. ,   62. ,   69. ,   17. ,   69. ]])"
            ]
          },
          "metadata": {},
          "execution_count": 37
        }
      ]
    },
    {
      "cell_type": "code",
      "source": [
        "np.mean(veri, axis=0) # axis=0 belirterek sütunlarda işlem yapacağımı söylemiş olduk. her sütunun ortalaması hesaplanır."
      ],
      "metadata": {
        "colab": {
          "base_uri": "https://localhost:8080/"
        },
        "id": "UFcxti9d2xI7",
        "outputId": "e3d14f85-9752-441a-ff07-cd8f34bf1c61"
      },
      "execution_count": null,
      "outputs": [
        {
          "output_type": "execute_result",
          "data": {
            "text/plain": [
              "array([10.24781554, 13.49088334, 95.68259869, 60.72862454, 95.4298991 ])"
            ]
          },
          "metadata": {},
          "execution_count": 38
        }
      ]
    },
    {
      "cell_type": "code",
      "source": [
        "np.std(veri,axis=0) #"
      ],
      "metadata": {
        "colab": {
          "base_uri": "https://localhost:8080/"
        },
        "id": "n23Zj0WN3TaN",
        "outputId": "c086c0b1-7598-4bc0-d9e1-5384899b6e78"
      },
      "execution_count": null,
      "outputs": [
        {
          "output_type": "execute_result",
          "data": {
            "text/plain": [
              "array([38.23954679, 43.3804555 , 18.62201893, 96.04428688, 18.08051386])"
            ]
          },
          "metadata": {},
          "execution_count": 39
        }
      ]
    },
    {
      "cell_type": "code",
      "source": [
        "np.max(veri[:,0])# sag_sensor_x için (tüm satırlar (:,0) ve sıfırıncı sütun)"
      ],
      "metadata": {
        "colab": {
          "base_uri": "https://localhost:8080/"
        },
        "id": "7vivmv-c3fK1",
        "outputId": "7620c9a9-8646-4e66-ed2c-c83e381da377"
      },
      "execution_count": null,
      "outputs": [
        {
          "output_type": "execute_result",
          "data": {
            "text/plain": [
              "np.float64(180.0)"
            ]
          },
          "metadata": {},
          "execution_count": 40
        }
      ]
    },
    {
      "cell_type": "code",
      "source": [
        "np.argmax(veri[:,2]) # en büyük değerin indeks numarasını almış oluruz."
      ],
      "metadata": {
        "colab": {
          "base_uri": "https://localhost:8080/"
        },
        "id": "ToyMmGlD3tMc",
        "outputId": "6958cd7f-8e0c-4454-e7ef-6e53c2b192d0"
      },
      "execution_count": null,
      "outputs": [
        {
          "output_type": "execute_result",
          "data": {
            "text/plain": [
              "np.int64(1560)"
            ]
          },
          "metadata": {},
          "execution_count": 41
        }
      ]
    },
    {
      "cell_type": "code",
      "source": [
        "#koşullu filtreleme\n",
        "\n",
        "np.where(veri[:,0] > 100) # sag_sensor_x > 100 olanları alır\n"
      ],
      "metadata": {
        "colab": {
          "base_uri": "https://localhost:8080/"
        },
        "id": "UlW0_JBD4BS7",
        "outputId": "627038f5-376e-4ae7-f567-532ef4269480"
      },
      "execution_count": null,
      "outputs": [
        {
          "output_type": "execute_result",
          "data": {
            "text/plain": [
              "(array([ 36,  44,  52,  65,  78,  79,  82, 102, 103, 104, 105, 111, 118,\n",
              "        121, 122, 125, 132, 133, 134, 209, 219, 220, 236, 237, 238, 239,\n",
              "        240, 241, 242, 243, 244, 245, 246, 247, 248, 249, 250, 251, 252,\n",
              "        253, 254, 255, 256, 257, 262, 264, 265, 266, 269, 270, 280, 281,\n",
              "        282, 283, 284, 285, 286, 287, 288, 291, 292, 301, 302, 303, 304,\n",
              "        305, 306, 307, 308, 310, 311, 312]),)"
            ]
          },
          "metadata": {},
          "execution_count": 42
        }
      ]
    },
    {
      "cell_type": "code",
      "source": [
        "np.sum(veri,axis=1)# tüm satırların toplamını alır"
      ],
      "metadata": {
        "colab": {
          "base_uri": "https://localhost:8080/"
        },
        "id": "vl7eN_SJ4Tlr",
        "outputId": "aad5edb2-ee0f-4894-fcda-81f6857d9a29"
      },
      "execution_count": null,
      "outputs": [
        {
          "output_type": "execute_result",
          "data": {
            "text/plain": [
              "array([ 33.5,  23. , -17. , ..., 234. , 235. , 234. ])"
            ]
          },
          "metadata": {},
          "execution_count": 43
        }
      ]
    },
    {
      "cell_type": "code",
      "source": [
        "#mantıksal kontrol\n",
        "np.any(veri[:,1] > 200) # 2. sütundaki tüm satırları alır ve 200'ü aşmış mı ? sorusunu sorar"
      ],
      "metadata": {
        "colab": {
          "base_uri": "https://localhost:8080/"
        },
        "id": "g2485Uhe4fTM",
        "outputId": "6a4809e3-b799-4b36-c50d-6a4f833eef2e"
      },
      "execution_count": null,
      "outputs": [
        {
          "output_type": "execute_result",
          "data": {
            "text/plain": [
              "np.False_"
            ]
          },
          "metadata": {},
          "execution_count": 44
        }
      ]
    },
    {
      "cell_type": "code",
      "source": [
        "np.diff(veri[:,3])"
      ],
      "metadata": {
        "colab": {
          "base_uri": "https://localhost:8080/"
        },
        "id": "DgvBiaY_40ss",
        "outputId": "145ef4bd-5835-4f59-a429-db89824b1912"
      },
      "execution_count": null,
      "outputs": [
        {
          "output_type": "execute_result",
          "data": {
            "text/plain": [
              "array([-2. , -0.5,  1. , ...,  1. ,  2. , -1. ])"
            ]
          },
          "metadata": {},
          "execution_count": 45
        }
      ]
    },
    {
      "cell_type": "code",
      "source": [
        "np.percentile(veri[:,4], 96)"
      ],
      "metadata": {
        "colab": {
          "base_uri": "https://localhost:8080/"
        },
        "id": "Va7lVhzk5CND",
        "outputId": "ea46cef1-274d-431f-c724-0796bec02193"
      },
      "execution_count": null,
      "outputs": [
        {
          "output_type": "execute_result",
          "data": {
            "text/plain": [
              "np.float64(118.0)"
            ]
          },
          "metadata": {},
          "execution_count": 46
        }
      ]
    },
    {
      "cell_type": "code",
      "source": [
        "veri.shape"
      ],
      "metadata": {
        "colab": {
          "base_uri": "https://localhost:8080/"
        },
        "id": "78x6kOqJ514f",
        "outputId": "227c3bb8-64fa-414b-d70c-5994406dd4eb"
      },
      "execution_count": null,
      "outputs": [
        {
          "output_type": "execute_result",
          "data": {
            "text/plain": [
              "(5649, 5)"
            ]
          },
          "metadata": {},
          "execution_count": 48
        }
      ]
    },
    {
      "cell_type": "code",
      "source": [
        "veri.reshape(5649,2,3) # a.b.c = size olmak zorunda"
      ],
      "metadata": {
        "colab": {
          "base_uri": "https://localhost:8080/",
          "height": 141
        },
        "id": "AwlPrjXo6Bhh",
        "outputId": "8e7d4fb8-bda2-496b-bcd6-cff8c3ad9319"
      },
      "execution_count": null,
      "outputs": [
        {
          "output_type": "error",
          "ename": "ValueError",
          "evalue": "cannot reshape array of size 28245 into shape (5649,2,3)",
          "traceback": [
            "\u001b[0;31m---------------------------------------------------------------------------\u001b[0m",
            "\u001b[0;31mValueError\u001b[0m                                Traceback (most recent call last)",
            "\u001b[0;32m<ipython-input-51-39793db70317>\u001b[0m in \u001b[0;36m<cell line: 0>\u001b[0;34m()\u001b[0m\n\u001b[0;32m----> 1\u001b[0;31m \u001b[0mveri\u001b[0m\u001b[0;34m.\u001b[0m\u001b[0mreshape\u001b[0m\u001b[0;34m(\u001b[0m\u001b[0;36m5649\u001b[0m\u001b[0;34m,\u001b[0m\u001b[0;36m2\u001b[0m\u001b[0;34m,\u001b[0m\u001b[0;36m3\u001b[0m\u001b[0;34m)\u001b[0m\u001b[0;34m\u001b[0m\u001b[0;34m\u001b[0m\u001b[0m\n\u001b[0m",
            "\u001b[0;31mValueError\u001b[0m: cannot reshape array of size 28245 into shape (5649,2,3)"
          ]
        }
      ]
    },
    {
      "cell_type": "code",
      "source": [
        "veri.reshape(veri.shape[0],2,3)"
      ],
      "metadata": {
        "colab": {
          "base_uri": "https://localhost:8080/",
          "height": 141
        },
        "id": "yUZ8okyI5UbD",
        "outputId": "3ad96b4f-7e8d-4339-ff76-cc7473801842"
      },
      "execution_count": null,
      "outputs": [
        {
          "output_type": "error",
          "ename": "ValueError",
          "evalue": "cannot reshape array of size 28245 into shape (5649,2,3)",
          "traceback": [
            "\u001b[0;31m---------------------------------------------------------------------------\u001b[0m",
            "\u001b[0;31mValueError\u001b[0m                                Traceback (most recent call last)",
            "\u001b[0;32m<ipython-input-47-56aee367f178>\u001b[0m in \u001b[0;36m<cell line: 0>\u001b[0;34m()\u001b[0m\n\u001b[0;32m----> 1\u001b[0;31m \u001b[0mveri\u001b[0m\u001b[0;34m.\u001b[0m\u001b[0mreshape\u001b[0m\u001b[0;34m(\u001b[0m\u001b[0mveri\u001b[0m\u001b[0;34m.\u001b[0m\u001b[0mshape\u001b[0m\u001b[0;34m[\u001b[0m\u001b[0;36m0\u001b[0m\u001b[0;34m]\u001b[0m\u001b[0;34m,\u001b[0m\u001b[0;36m2\u001b[0m\u001b[0;34m,\u001b[0m\u001b[0;36m3\u001b[0m\u001b[0;34m)\u001b[0m\u001b[0;34m\u001b[0m\u001b[0;34m\u001b[0m\u001b[0m\n\u001b[0m",
            "\u001b[0;31mValueError\u001b[0m: cannot reshape array of size 28245 into shape (5649,2,3)"
          ]
        }
      ]
    },
    {
      "cell_type": "code",
      "source": [
        "np.concatenate([veri[:,:2],veri[:,4:]], axis=1)"
      ],
      "metadata": {
        "colab": {
          "base_uri": "https://localhost:8080/"
        },
        "id": "WfHEOCcl5q3M",
        "outputId": "e4ff10c4-f219-466c-dce8-018e6b852dc9"
      },
      "execution_count": null,
      "outputs": [
        {
          "output_type": "execute_result",
          "data": {
            "text/plain": [
              "array([[ 64. , -85. ,  99. ],\n",
              "       [ 56. , -84.5,  98.5],\n",
              "       [ 12. , -83. , 100. ],\n",
              "       ...,\n",
              "       [ 17. ,  61. ,  70. ],\n",
              "       [ 16. ,  61. ,  70. ],\n",
              "       [ 17. ,  62. ,  69. ]])"
            ]
          },
          "metadata": {},
          "execution_count": 52
        }
      ]
    },
    {
      "cell_type": "code",
      "source": [
        "veri"
      ],
      "metadata": {
        "colab": {
          "base_uri": "https://localhost:8080/"
        },
        "id": "i6UltdEj7aPs",
        "outputId": "7da39ba8-802e-4db1-d1ab-e3cdf5619e30"
      },
      "execution_count": null,
      "outputs": [
        {
          "output_type": "execute_result",
          "data": {
            "text/plain": [
              "array([[  64. ,  -85. ,   99. , -143.5,   99. ],\n",
              "       [  56. ,  -84.5,   98.5, -145.5,   98.5],\n",
              "       [  12. ,  -83. ,  100. , -146. ,  100. ],\n",
              "       ...,\n",
              "       [  17. ,   61. ,   70. ,   16. ,   70. ],\n",
              "       [  16. ,   61. ,   70. ,   18. ,   70. ],\n",
              "       [  17. ,   62. ,   69. ,   17. ,   69. ]])"
            ]
          },
          "metadata": {},
          "execution_count": 54
        }
      ]
    },
    {
      "cell_type": "code",
      "source": [],
      "metadata": {
        "id": "6kbXoZ7u7foj"
      },
      "execution_count": null,
      "outputs": []
    }
  ]
}