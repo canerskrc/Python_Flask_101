{
  "nbformat": 4,
  "nbformat_minor": 0,
  "metadata": {
    "colab": {
      "provenance": [],
      "authorship_tag": "ABX9TyMUhsjtb8ODUoXkbumfvpVt",
      "include_colab_link": true
    },
    "kernelspec": {
      "name": "python3",
      "display_name": "Python 3"
    },
    "language_info": {
      "name": "python"
    }
  },
  "cells": [
    {
      "cell_type": "markdown",
      "metadata": {
        "id": "view-in-github",
        "colab_type": "text"
      },
      "source": [
        "<a href=\"https://colab.research.google.com/github/canerskrc/Python_Flask_101/blob/main/Tamfinans_Dosyaislemleri_ders2.ipynb\" target=\"_parent\"><img src=\"https://colab.research.google.com/assets/colab-badge.svg\" alt=\"Open In Colab\"/></a>"
      ]
    },
    {
      "cell_type": "markdown",
      "source": [
        "## Dosya İşlemleri"
      ],
      "metadata": {
        "id": "5nEl8my-dFEY"
      }
    },
    {
      "cell_type": "markdown",
      "source": [
        "open = dosya açar\n",
        "\n",
        "w => dosya yazma\n",
        "\n",
        "r = dosya okuma\n",
        "\n",
        "a = dosyaya veri ekleme\n",
        "\n",
        "x = Dosya yoksa yaz ( hata varsa )\n",
        "\n",
        "with bloğu = Dosyayı otomatik kapatır.\n",
        "\n",
        "b = Binary ( resim / dosya okuma ) ( img.jpg ,\"rb\")  "
      ],
      "metadata": {
        "id": "8zOL_rOPdIqC"
      }
    },
    {
      "cell_type": "code",
      "execution_count": null,
      "metadata": {
        "id": "aVBUjHvSaXv8"
      },
      "outputs": [],
      "source": [
        "with open(\"ornek1.txt\",\"w\",encoding=\"utf-8\") as f:\n",
        "  f.write(\"Hello world!\\nBu bir dosya yazma işlemidir\")\n",
        "\n",
        "#özellikle log, cache dosyası bu şekilde baştan yazılır."
      ]
    },
    {
      "cell_type": "code",
      "source": [
        "with open(\"ornek1.txt\",\"r\", encoding=\"utf-8\") as f:\n",
        "  for satir in f:\n",
        "    print(f\"Satır: {satir.strip()}\")\n",
        "\n",
        "#belleği daha iyi kullanabilmek adına uygulanan yöntemdir."
      ],
      "metadata": {
        "colab": {
          "base_uri": "https://localhost:8080/"
        },
        "id": "GhyWAy4fbMQf",
        "outputId": "9c616615-bece-4d1d-88b4-bbadf7da779e"
      },
      "execution_count": null,
      "outputs": [
        {
          "output_type": "stream",
          "name": "stdout",
          "text": [
            "Satır: Hello world!\n",
            "Satır: Bu bir dosya yazma işlemidir\n"
          ]
        }
      ]
    },
    {
      "cell_type": "code",
      "source": [
        "with open (\"ornek1.txt\",\"a\", encoding=\"utf-8\") as f:\n",
        "  f.write(\"\\nYeni bir veri\")"
      ],
      "metadata": {
        "id": "vwc2l1T4b2mN"
      },
      "execution_count": null,
      "outputs": []
    },
    {
      "cell_type": "code",
      "source": [
        "import os\n",
        "if not os.path.exists(\"logs\"):\n",
        "  os.makedirs(\"logs\")\n",
        "\n",
        "#bir klasör yoksa oluşturur. log, cache klasörleri bu şekilde oluşturulabilir."
      ],
      "metadata": {
        "id": "-tXlwVM_cLcO"
      },
      "execution_count": null,
      "outputs": []
    },
    {
      "cell_type": "code",
      "source": [
        "from pathlib import Path\n",
        "\n",
        "for file in Path(\".\").glob(\"*.txt\"):\n",
        "  print(f\"TXT dosyası: {file.name}\")\n",
        "\n",
        "#pathlib modern python kullanım örneği. glob() ile filtreleme yapılır."
      ],
      "metadata": {
        "colab": {
          "base_uri": "https://localhost:8080/"
        },
        "id": "uw9DsTcacb2O",
        "outputId": "c17de136-6189-444a-8a02-0965e7fe266a"
      },
      "execution_count": null,
      "outputs": [
        {
          "output_type": "stream",
          "name": "stdout",
          "text": [
            "TXT dosyası: ornek1.txt\n"
          ]
        }
      ]
    },
    {
      "cell_type": "code",
      "source": [
        "import csv\n",
        "\n",
        "with open(\"banka.csv\",\"r\",encoding=\"utf-8\") as f:\n",
        "  reader = csv.DictReader(f)\n",
        "  for row in reader:\n",
        "    if float(row[ \"bakiye\"]) < 0:\n",
        "      print(f\"Eksi bakiye: {row['ad']}\")"
      ],
      "metadata": {
        "colab": {
          "base_uri": "https://localhost:8080/",
          "height": 211
        },
        "id": "xBBCybrTczW2",
        "outputId": "f797d636-653a-4e2a-caf8-e89fa6f6c157"
      },
      "execution_count": null,
      "outputs": [
        {
          "output_type": "error",
          "ename": "FileNotFoundError",
          "evalue": "[Errno 2] No such file or directory: 'banka.csv'",
          "traceback": [
            "\u001b[0;31m---------------------------------------------------------------------------\u001b[0m",
            "\u001b[0;31mFileNotFoundError\u001b[0m                         Traceback (most recent call last)",
            "\u001b[0;32m<ipython-input-7-5fa7668d0a61>\u001b[0m in \u001b[0;36m<cell line: 0>\u001b[0;34m()\u001b[0m\n\u001b[1;32m      1\u001b[0m \u001b[0;32mimport\u001b[0m \u001b[0mcsv\u001b[0m\u001b[0;34m\u001b[0m\u001b[0;34m\u001b[0m\u001b[0m\n\u001b[1;32m      2\u001b[0m \u001b[0;34m\u001b[0m\u001b[0m\n\u001b[0;32m----> 3\u001b[0;31m \u001b[0;32mwith\u001b[0m \u001b[0mopen\u001b[0m\u001b[0;34m(\u001b[0m\u001b[0;34m\"banka.csv\"\u001b[0m\u001b[0;34m,\u001b[0m\u001b[0;34m\"r\"\u001b[0m\u001b[0;34m,\u001b[0m\u001b[0mencoding\u001b[0m\u001b[0;34m=\u001b[0m\u001b[0;34m\"utf-8\"\u001b[0m\u001b[0;34m)\u001b[0m \u001b[0;32mas\u001b[0m \u001b[0mf\u001b[0m\u001b[0;34m:\u001b[0m\u001b[0;34m\u001b[0m\u001b[0;34m\u001b[0m\u001b[0m\n\u001b[0m\u001b[1;32m      4\u001b[0m   \u001b[0mreader\u001b[0m \u001b[0;34m=\u001b[0m \u001b[0mcsv\u001b[0m\u001b[0;34m.\u001b[0m\u001b[0mDictReader\u001b[0m\u001b[0;34m(\u001b[0m\u001b[0mf\u001b[0m\u001b[0;34m)\u001b[0m\u001b[0;34m\u001b[0m\u001b[0;34m\u001b[0m\u001b[0m\n\u001b[1;32m      5\u001b[0m   \u001b[0;32mfor\u001b[0m \u001b[0mrow\u001b[0m \u001b[0;32min\u001b[0m \u001b[0mreader\u001b[0m\u001b[0;34m:\u001b[0m\u001b[0;34m\u001b[0m\u001b[0;34m\u001b[0m\u001b[0m\n",
            "\u001b[0;31mFileNotFoundError\u001b[0m: [Errno 2] No such file or directory: 'banka.csv'"
          ]
        }
      ]
    },
    {
      "cell_type": "markdown",
      "source": [
        "ad , bakiye, hesapno\n",
        "\n",
        "Ahmet, -1500, 123456\n",
        "\n",
        "{'ad': 'Ahmet', 'bakiye' : '-1500', 'hesapno':'123456'}"
      ],
      "metadata": {
        "id": "xMHR3gbjfF-g"
      }
    },
    {
      "cell_type": "code",
      "source": [
        "import os\n",
        "\n",
        "file_path = \"buyuk_dosya.txt\"\n",
        "\n",
        "size = os.path.getsize(file_path)\n",
        "\n",
        "if size > 10 * 1024 * 1024:\n",
        "  os.remove(file_path)\n",
        "  print(\"Dosya 10MB aştığı için silindi\")"
      ],
      "metadata": {
        "colab": {
          "base_uri": "https://localhost:8080/",
          "height": 245
        },
        "id": "2ciLw1xEesVf",
        "outputId": "63ee4a0d-7515-4d60-986d-0bb4598f3b9c"
      },
      "execution_count": null,
      "outputs": [
        {
          "output_type": "error",
          "ename": "FileNotFoundError",
          "evalue": "[Errno 2] No such file or directory: 'buyuk_dosya.txt'",
          "traceback": [
            "\u001b[0;31m---------------------------------------------------------------------------\u001b[0m",
            "\u001b[0;31mFileNotFoundError\u001b[0m                         Traceback (most recent call last)",
            "\u001b[0;32m<ipython-input-8-18b94736449e>\u001b[0m in \u001b[0;36m<cell line: 0>\u001b[0;34m()\u001b[0m\n\u001b[1;32m      3\u001b[0m \u001b[0mfile_path\u001b[0m \u001b[0;34m=\u001b[0m \u001b[0;34m\"buyuk_dosya.txt\"\u001b[0m\u001b[0;34m\u001b[0m\u001b[0;34m\u001b[0m\u001b[0m\n\u001b[1;32m      4\u001b[0m \u001b[0;34m\u001b[0m\u001b[0m\n\u001b[0;32m----> 5\u001b[0;31m \u001b[0msize\u001b[0m \u001b[0;34m=\u001b[0m \u001b[0mos\u001b[0m\u001b[0;34m.\u001b[0m\u001b[0mpath\u001b[0m\u001b[0;34m.\u001b[0m\u001b[0mgetsize\u001b[0m\u001b[0;34m(\u001b[0m\u001b[0mfile_path\u001b[0m\u001b[0;34m)\u001b[0m\u001b[0;34m\u001b[0m\u001b[0;34m\u001b[0m\u001b[0m\n\u001b[0m\u001b[1;32m      6\u001b[0m \u001b[0;34m\u001b[0m\u001b[0m\n\u001b[1;32m      7\u001b[0m \u001b[0;32mif\u001b[0m \u001b[0msize\u001b[0m \u001b[0;34m>\u001b[0m \u001b[0;36m10\u001b[0m \u001b[0;34m*\u001b[0m \u001b[0;36m1024\u001b[0m \u001b[0;34m*\u001b[0m \u001b[0;36m1024\u001b[0m\u001b[0;34m:\u001b[0m\u001b[0;34m\u001b[0m\u001b[0;34m\u001b[0m\u001b[0m\n",
            "\u001b[0;32m/usr/lib/python3.11/genericpath.py\u001b[0m in \u001b[0;36mgetsize\u001b[0;34m(filename)\u001b[0m\n",
            "\u001b[0;31mFileNotFoundError\u001b[0m: [Errno 2] No such file or directory: 'buyuk_dosya.txt'"
          ]
        }
      ]
    },
    {
      "cell_type": "markdown",
      "source": [
        "## Yaygın kullanılan dosya yapıları\n",
        "\n",
        ".txt\n",
        "\n",
        ".csv\n",
        "\n",
        ".json\n",
        "\n",
        ".yaml ( config dosyaları )\n",
        "\n",
        ".log ( sistem veya hata kayıtları )\n",
        "\n",
        ".zip"
      ],
      "metadata": {
        "id": "ng8YcWznlNmS"
      }
    },
    {
      "cell_type": "markdown",
      "source": [
        "pathlib ve shutil\n",
        "\n",
        "pathlib = Python sdosyalar path nesnesiyle çalışır\n",
        "\n",
        "shutil = Dosya veya klasör kopyalama, taşıma,silme işlemlerinde kullanılır.\n",
        "\n",
        "Log saatlendirme = log_20250429_14711.txt şeklinde düzenlenmesi önerilir.\n",
        "\n",
        "- Dosya çakışması engellenir\n",
        "- Log rotasyonu ( saatlik, günlük, haftalık )\n",
        "- Denetim için dosya zamanlaması zorunludur.\n",
        "\n",
        "Json / Yaml yapı doğrulama\n",
        "\n",
        "- ML modellerinde config.yaml dosyası hatalıysa model yanlış eğitilir\n",
        "- Json dosyaları API ile paylaşıldığında bozuksa mikroservis zinciriniz çöker\n",
        "- CI/CD sistemlerinde YAML yapısı hatalıysa tüm pipeline çöker.\n",
        "\n",
        "SHA256 Hash\n",
        "\n",
        "Bir dosyanın içeriğinden sabit uzunlukta bir dijital imza üretilir. İçerik değişirse hash de değişir.\n",
        "\n",
        "- Model dosyaları indirildiğinde doğru mu diye kontrol edilir.\n",
        "- Config dosyaları  ve deployment manifestleri hashlenerek versiyonlanır.\n",
        "- Dosya saldırıya uğradıysa hash eşleşesiyle tespit edilebilir.\n",
        "\n"
      ],
      "metadata": {
        "id": "psMtnqZomEEp"
      }
    },
    {
      "cell_type": "code",
      "source": [
        "def attach_account_statement(file_path: str) -> dict:\n",
        "\n",
        "  encoded_pdf = encode_file_to_base64(file_path)\n",
        "  return{\n",
        "      \"type\":\"account_statement\",\n",
        "      \"file\": encoded_pdf\n",
        "  }"
      ],
      "metadata": {
        "id": "8NxtOrZcgXnm"
      },
      "execution_count": null,
      "outputs": []
    },
    {
      "cell_type": "markdown",
      "source": [
        "- Base64 string çok büyükse API çöker. Çözüm olarak sunucuda boyut kontrolü\n",
        "\n",
        "if len(base64_str) > 2_000_000\n",
        "  raise ValueError(\"Base64 ...... \")\n",
        "\n",
        "- Base64 stringi doğrudan veritabanına yazılırsa sorgular yavaşlar.\n",
        "\n",
        "  - Postgres/ Mongo gibi veritabanlarında base64 string büyük yer kaplar.\n",
        "  - Sorgular yavaşlar\n",
        "  - Max row size limitine ulaşılabilir.\n",
        "\n",
        "Alternatif olarak direkt veeritabanına kaydetmek yerine dosya sistemine veya blob storage kullanarak saklamak tercih edilebilir.\n",
        "\n",
        "- Aynı dosya adıyla kaydetmek\n",
        "\n",
        "Alternatif olarak uuid ile dosya adları oluşturulabilir."
      ],
      "metadata": {
        "id": "RoUXaaVYqHn-"
      }
    },
    {
      "cell_type": "code",
      "source": [],
      "metadata": {
        "id": "WpYLuc8tsd3X"
      },
      "execution_count": null,
      "outputs": []
    }
  ]
}