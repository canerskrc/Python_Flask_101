{
  "nbformat": 4,
  "nbformat_minor": 0,
  "metadata": {
    "colab": {
      "provenance": [],
      "authorship_tag": "ABX9TyPaupI3TmKxHG8FDaFEcJsq",
      "include_colab_link": true
    },
    "kernelspec": {
      "name": "python3",
      "display_name": "Python 3"
    },
    "language_info": {
      "name": "python"
    }
  },
  "cells": [
    {
      "cell_type": "markdown",
      "metadata": {
        "id": "view-in-github",
        "colab_type": "text"
      },
      "source": [
        "<a href=\"https://colab.research.google.com/github/canerskrc/Python_Flask_101/blob/main/Tamfinans_Exception_Handling_Ders4.ipynb\" target=\"_parent\"><img src=\"https://colab.research.google.com/assets/colab-badge.svg\" alt=\"Open In Colab\"/></a>"
      ]
    },
    {
      "cell_type": "code",
      "execution_count": 1,
      "metadata": {
        "colab": {
          "base_uri": "https://localhost:8080/"
        },
        "id": "p7qMsYlxO7Bt",
        "outputId": "a1c17a16-57e7-4b50-adb0-09469b55fcb8"
      },
      "outputs": [
        {
          "output_type": "stream",
          "name": "stdout",
          "text": [
            "Can't be divided by zero\n"
          ]
        }
      ],
      "source": [
        "n = 10\n",
        "try:\n",
        "  res = n / 0 # ZeroDivisionError\n",
        "except ZeroDivisionError:\n",
        "  print(\"Can't be divided by zero\")"
      ]
    },
    {
      "cell_type": "markdown",
      "source": [
        "Exception = Hatalardan daha az ciddidir ve program tarafından işlenebilir. Geçersiz girdi, eksik dosya veya ağ sorunları gibi durumlardır.\n",
        "\n",
        "Error = Bir programın ele almaya çalışmaması gereken sorunlardır. Kodun mantığında ve yapılandırılmasında görülen sorunlar. Hatalar direkt kod düzenlemesi ile giderilir."
      ],
      "metadata": {
        "id": "TBd6KGvlQPnC"
      }
    },
    {
      "cell_type": "code",
      "source": [
        "print ( \"Hello Python \""
      ],
      "metadata": {
        "colab": {
          "base_uri": "https://localhost:8080/",
          "height": 106
        },
        "id": "Lzrma1jlP93-",
        "outputId": "19c4b942-9c19-42cd-dd08-ba2233702bc4"
      },
      "execution_count": 2,
      "outputs": [
        {
          "output_type": "error",
          "ename": "SyntaxError",
          "evalue": "incomplete input (<ipython-input-2-fd25612b3148>, line 1)",
          "traceback": [
            "\u001b[0;36m  File \u001b[0;32m\"<ipython-input-2-fd25612b3148>\"\u001b[0;36m, line \u001b[0;32m1\u001b[0m\n\u001b[0;31m    print ( \"Hello Python \"\u001b[0m\n\u001b[0m                            ^\u001b[0m\n\u001b[0;31mSyntaxError\u001b[0m\u001b[0;31m:\u001b[0m incomplete input\n"
          ]
        }
      ]
    },
    {
      "cell_type": "code",
      "source": [
        "n = 10\n",
        "res = n / 0"
      ],
      "metadata": {
        "colab": {
          "base_uri": "https://localhost:8080/",
          "height": 159
        },
        "id": "1qjJyrQaQ31N",
        "outputId": "c7ef2643-3cbb-4bba-a440-e95d4381344f"
      },
      "execution_count": 3,
      "outputs": [
        {
          "output_type": "error",
          "ename": "ZeroDivisionError",
          "evalue": "division by zero",
          "traceback": [
            "\u001b[0;31m---------------------------------------------------------------------------\u001b[0m",
            "\u001b[0;31mZeroDivisionError\u001b[0m                         Traceback (most recent call last)",
            "\u001b[0;32m<ipython-input-3-4e83f01818d3>\u001b[0m in \u001b[0;36m<cell line: 0>\u001b[0;34m()\u001b[0m\n\u001b[1;32m      1\u001b[0m \u001b[0mn\u001b[0m \u001b[0;34m=\u001b[0m \u001b[0;36m10\u001b[0m\u001b[0;34m\u001b[0m\u001b[0;34m\u001b[0m\u001b[0m\n\u001b[0;32m----> 2\u001b[0;31m \u001b[0mres\u001b[0m \u001b[0;34m=\u001b[0m \u001b[0mn\u001b[0m \u001b[0;34m/\u001b[0m \u001b[0;36m0\u001b[0m\u001b[0;34m\u001b[0m\u001b[0;34m\u001b[0m\u001b[0m\n\u001b[0m",
            "\u001b[0;31mZeroDivisionError\u001b[0m: division by zero"
          ]
        }
      ]
    },
    {
      "cell_type": "markdown",
      "source": [
        "# Sytax Yapısı\n",
        "\n",
        "try:\n",
        "  ###Bir exception oluşturabilecek kod.\n",
        "except #Herhangi bir exception\n",
        "\n",
        "else:\n",
        "  ###Hiçbir exception oluşmazsa çalışacak olan kod.\n",
        "\n",
        "finally:\n",
        "  ###Bir exception oluşsa bile çalışacak olan kod."
      ],
      "metadata": {
        "id": "dnhjjf6NRFp6"
      }
    },
    {
      "cell_type": "code",
      "source": [
        "try:\n",
        "  x = 5\n",
        "  res = 100 /x\n",
        "except ZeroDivisionError:\n",
        "  print(\"You can't divide by zero\")\n",
        "except ValueError:\n",
        "  print(\"Enter a valid number\")\n",
        "else:\n",
        "  print(\"Result is\", res)\n",
        "finally:\n",
        "  print(\"Execution complete\")"
      ],
      "metadata": {
        "colab": {
          "base_uri": "https://localhost:8080/"
        },
        "id": "2HJWqK9bQ9PU",
        "outputId": "6758fb0a-ee4f-44ec-ee3d-e421e2d568ea"
      },
      "execution_count": 5,
      "outputs": [
        {
          "output_type": "stream",
          "name": "stdout",
          "text": [
            "Result is 20.0\n",
            "Execution complete\n"
          ]
        }
      ]
    },
    {
      "cell_type": "code",
      "source": [
        "int(\"abc\") # tip doğrulama uygun değil"
      ],
      "metadata": {
        "colab": {
          "base_uri": "https://localhost:8080/",
          "height": 141
        },
        "id": "gf-WKpknSPAN",
        "outputId": "057cb84f-8624-4f86-fcd1-0e8b631c38e8"
      },
      "execution_count": 6,
      "outputs": [
        {
          "output_type": "error",
          "ename": "ValueError",
          "evalue": "invalid literal for int() with base 10: 'abc'",
          "traceback": [
            "\u001b[0;31m---------------------------------------------------------------------------\u001b[0m",
            "\u001b[0;31mValueError\u001b[0m                                Traceback (most recent call last)",
            "\u001b[0;32m<ipython-input-6-2dda1cc00c48>\u001b[0m in \u001b[0;36m<cell line: 0>\u001b[0;34m()\u001b[0m\n\u001b[0;32m----> 1\u001b[0;31m \u001b[0mint\u001b[0m\u001b[0;34m(\u001b[0m\u001b[0;34m\"abc\"\u001b[0m\u001b[0;34m)\u001b[0m\u001b[0;34m\u001b[0m\u001b[0;34m\u001b[0m\u001b[0m\n\u001b[0m",
            "\u001b[0;31mValueError\u001b[0m: invalid literal for int() with base 10: 'abc'"
          ]
        }
      ]
    },
    {
      "cell_type": "code",
      "source": [
        "\"abc\" + 5  # veri tipi yanlış"
      ],
      "metadata": {
        "colab": {
          "base_uri": "https://localhost:8080/",
          "height": 141
        },
        "id": "lMbb_RMPWQUs",
        "outputId": "d81ab977-612e-42b0-d1b8-ac92dcb33693"
      },
      "execution_count": 7,
      "outputs": [
        {
          "output_type": "error",
          "ename": "TypeError",
          "evalue": "can only concatenate str (not \"int\") to str",
          "traceback": [
            "\u001b[0;31m---------------------------------------------------------------------------\u001b[0m",
            "\u001b[0;31mTypeError\u001b[0m                                 Traceback (most recent call last)",
            "\u001b[0;32m<ipython-input-7-ec8d1bc3c005>\u001b[0m in \u001b[0;36m<cell line: 0>\u001b[0;34m()\u001b[0m\n\u001b[0;32m----> 1\u001b[0;31m \u001b[0;34m\"abc\"\u001b[0m \u001b[0;34m+\u001b[0m \u001b[0;36m5\u001b[0m\u001b[0;34m\u001b[0m\u001b[0;34m\u001b[0m\u001b[0m\n\u001b[0m",
            "\u001b[0;31mTypeError\u001b[0m: can only concatenate str (not \"int\") to str"
          ]
        }
      ]
    },
    {
      "cell_type": "markdown",
      "source": [
        "ValueError = Tip doğru ama içerik yanlış\n",
        "\n",
        "TypeError = Tip yanlış, işlem yapılamaz"
      ],
      "metadata": {
        "id": "Pd8xv9s2WgPC"
      }
    },
    {
      "cell_type": "code",
      "source": [
        "try :\n",
        "  process_user_input(user_input)\n",
        "except ValueError:\n",
        "  log_user_input_issue(user_input)\n",
        "except TypeError:\n",
        "  alert_developer_bug(user_input)"
      ],
      "metadata": {
        "colab": {
          "base_uri": "https://localhost:8080/",
          "height": 211
        },
        "id": "miMGGAOEWTGL",
        "outputId": "a18fca98-53bf-44a9-f3c3-4ceefa4ffddf"
      },
      "execution_count": 8,
      "outputs": [
        {
          "output_type": "error",
          "ename": "NameError",
          "evalue": "name 'process_user_input' is not defined",
          "traceback": [
            "\u001b[0;31m---------------------------------------------------------------------------\u001b[0m",
            "\u001b[0;31mNameError\u001b[0m                                 Traceback (most recent call last)",
            "\u001b[0;32m<ipython-input-8-98e6b7964b04>\u001b[0m in \u001b[0;36m<cell line: 0>\u001b[0;34m()\u001b[0m\n\u001b[1;32m      1\u001b[0m \u001b[0;32mtry\u001b[0m \u001b[0;34m:\u001b[0m\u001b[0;34m\u001b[0m\u001b[0;34m\u001b[0m\u001b[0m\n\u001b[0;32m----> 2\u001b[0;31m   \u001b[0mprocess_user_input\u001b[0m\u001b[0;34m(\u001b[0m\u001b[0muser_input\u001b[0m\u001b[0;34m)\u001b[0m\u001b[0;34m\u001b[0m\u001b[0;34m\u001b[0m\u001b[0m\n\u001b[0m\u001b[1;32m      3\u001b[0m \u001b[0;32mexcept\u001b[0m \u001b[0mValueError\u001b[0m\u001b[0;34m:\u001b[0m\u001b[0;34m\u001b[0m\u001b[0;34m\u001b[0m\u001b[0m\n\u001b[1;32m      4\u001b[0m   \u001b[0mlog_user_input_issue\u001b[0m\u001b[0;34m(\u001b[0m\u001b[0muser_input\u001b[0m\u001b[0;34m)\u001b[0m\u001b[0;34m\u001b[0m\u001b[0;34m\u001b[0m\u001b[0m\n\u001b[1;32m      5\u001b[0m \u001b[0;32mexcept\u001b[0m \u001b[0mTypeError\u001b[0m\u001b[0;34m:\u001b[0m\u001b[0;34m\u001b[0m\u001b[0;34m\u001b[0m\u001b[0m\n",
            "\u001b[0;31mNameError\u001b[0m: name 'process_user_input' is not defined"
          ]
        }
      ]
    },
    {
      "cell_type": "markdown",
      "source": [
        "BaseException\n",
        "|--- Exception\n",
        "    |----ValueError\n",
        "    |----TypeError\n",
        "\n",
        "class InvalidAccountError(Exception):\n",
        "  \"\"\"Kullanıcı yanlış iban girdi\"\"\"\n",
        "  pass"
      ],
      "metadata": {
        "id": "-0SzcOs9X2_J"
      }
    },
    {
      "cell_type": "markdown",
      "source": [
        "severity = info,error,warning / Error -> Kullanıcıyı etkiler veya Fatal -> Sistem çalışmaz\n",
        "\n",
        "retryable = Hata tekrar denenebilir mi ? True-> E301, False->E101\n",
        "\n",
        "complianceImpact = Regülasyon açısından kritik mi ? True-> E2xx ( kimlik), E6xx(finans )\n",
        "\n",
        "alertable = OPS ekibine bildirim tetiklenecek mi ? E505->Slack alarmına düşer."
      ],
      "metadata": {
        "id": "e8r_7_kcbZ7x"
      }
    },
    {
      "cell_type": "code",
      "source": [
        "{\n",
        "    \"code\":\"E401\"\n",
        "    \"userMessage\":{\n",
        "        \"tr\":\"Kredi başvurusu için en az 18 yaşında olmanız gerekli\"\n",
        "    },\n",
        "    \"developerMessage\":\"Age validation failed: user.age=17, min_age=18\",\n",
        "    \"severity\":\"warning\",\n",
        "    \"retryable\":\"false\",\n",
        "    \"complianceImpact\":\"true\",\n",
        "    \"alertable\":\"false\",\n",
        "    \"timestamp\":\"2025-05-06\",\n",
        "    \"user\":{\n",
        "        \"id\":\"XNFK564\",\n",
        "        \"locale\":\"tr\",\n",
        "        \"country\":\"TR\",\n",
        "        \"platform\":\"mobile\"\n",
        "    }\n",
        "}"
      ],
      "metadata": {
        "id": "WvmX7g6rXFSE"
      },
      "execution_count": null,
      "outputs": []
    },
    {
      "cell_type": "code",
      "source": [
        "from datetime import datetime\n",
        "#hata sınıfları\n",
        "class UygulamaHatasi(Exception): #Tüm özel sınıflar bu hata sınıfından türeyecek.\n",
        "  def __init__(self, kod, kullanici_mesaji,gelistirici_mesaji):\n",
        "    self.kod = kod #hatakodu\n",
        "    self.kullanici_mesaji = kullanici_mesaji\n",
        "    self.gelistirici_mesaji = gelistirici_mesaji\n",
        "    super().__init__(self.gelistirici_mesaji) #Exception sınıfına ait teknik açıklamayı aktarır.\n",
        "\n",
        "  def to_dict(self):\n",
        "    return {\n",
        "        \"hata_kodu\": self.kod,\n",
        "        \"mesaj\":self.kullanici_mesaji\n",
        "    }\n",
        "  def __str__(self):\n",
        "    return f\"[{self.kod}] {self.gelistirici_mesaji}\"\n",
        "\n",
        "class GecersizTCKNHatasi(UygulamaHatasi):\n",
        "  def __init__(self, tckn):\n",
        "    super().__init__(\n",
        "        kod=\"E101\",\n",
        "        kullanici_mesaji =\"TC Kimlik Numaranız 11 Haneli ve sadece rakamlardan içermelidir.\",\n",
        "        gelistirici_mesaji =f\"TCKN Doğrulaması başarısız: input={tckn}\"\n",
        "    )\n",
        "class GecersizDogumYiliHatasi(UygulamaHatasi):\n",
        "  def __init__(self,yil):\n",
        "    super().__init__(\n",
        "        kod=\"E102\",\n",
        "        kullanici_mesaji=\"Doğum yılınız 1900 ile günümüz arasında olmalıdır.\",\n",
        "        gelistirici_mesaji=f\"Doğum yılı doğrulaması başarısız: input={yil}\"\n",
        "    )\n",
        "class GecersizGelirHatasi(UygulamaHatasi):\n",
        "  def __init__(self,gelir):\n",
        "    super().__init__(\n",
        "        kod=\"E103\",\n",
        "        kullanici_mesaji=\"Geliriniz pozitif bir sayı olmalıdır.\",\n",
        "        gelistirici_mesaji=f\"Gelir doğrulaması başarısız: input={gelir}\"\n",
        "    )\n",
        "\n",
        "#Veri doğrulama\n",
        "\n",
        "def tckn_dogrula(tckn):\n",
        "  if not (tckn.isdigit() and len(tckn)==11):\n",
        "    raise GecersizTCKNHatasi(tckn) #şart sağlanmazsa özel tanımlanmış hata dönderilsin.\n",
        "  return tckn # doğruysa aynen tckn dönderilir.\n",
        "\n",
        "def dogum_yili_dogrula(yil_str):\n",
        "  simdiki_yil = datetime.now().year # şu anki yılı alır.\n",
        "  if not (yil_str.isdigit() and 1900 <= int(yil_str) <= simdiki_yil):\n",
        "    raise GecersizDogumYiliHatasi(yil_str) #şart sağlanmazsa özel tanımlanmış hata dönderilsin.\n",
        "  return int(yil_str) # doğruysa aynen doğum yılı dönderilir.\n",
        "\n",
        "def gelir_dogrula(gelir_str):\n",
        "  try:\n",
        "    gelir = float(gelir_str) # geliri sayıya çevirsin.\n",
        "    if gelir <=0:\n",
        "      raise GecersizGelirHatasi(gelir_str) # 0 veya daha küçükse hata ataması\n",
        "    return gelir # geçerliyse gelir dönderilir.\n",
        "  except ValueError:\n",
        "    raise GecersizGelirHatasi(gelir_str) # rakam dışında değer girilirse\n",
        "\n",
        "#AnaFonksiyon\n",
        "\n",
        "def kredi_basvuru_sistemi():\n",
        "  print(\"Kredi Başvuru Formu(TCKN, Doğum yılı, Aylık Gelir)\\n\")\n",
        "\n",
        "  tckn = input(\"TC kimlik numaranızı girin: \").strip() # strip() girilen değerin başında ve sonundaki boşlukları temizler\n",
        "  dogum_yili = input(\"Doğum yılınızı girin: \").strip()\n",
        "  gelir = input(\"Aylık gelirinizi girin(TL): \").strip()\n",
        "\n",
        "  try:\n",
        "    tckn_dogrula(tckn)\n",
        "    yil = dogum_yili_dogrula(dogum_yili)\n",
        "    aylik_gelir = gelir_dogrula(gelir)\n",
        "#yaş hesaplaması\n",
        "    yas = datetime.now().year - yil\n",
        "    if yas < 18:\n",
        "      raise YasSinirHatasi(yas)\n",
        "      pass # Burada pass ile hata yakalama sınıfı bulunmadığından geçilecektir.\n",
        "\n",
        "    print(\"\\n Başvurunuz başarıyla alınmıştır.\")\n",
        "    print(f\"Yaşınız: {yas} - Aylık geliriniz: {aylik_gelir:.2f} TL\")\n",
        "    print(\"Bilgileriniz sisteme kaydedildi. Değerlendirme süreci başlatıldı.\")\n",
        "\n",
        "  except UygulamaHatasi as e: # bilinen kullanıcı hataları\n",
        "    print(\"\\n Hata oluştu: \")\n",
        "    print(f\"{e.to_dict()['mesaj']}\") # kullanıcıya sade bir mesaj\n",
        "    print(f\"[log] {str(e)}\")# log'lara teknik açıklama yazılır.\n",
        "  except Exception as e: # Beklenmedik hatalar varsa bu blok çalışır ( internet kopması, sistem çökmesi)\n",
        "    print(\"\\n Beklenmedik bir hata oluştu.\")\n",
        "    print(\"[log]\", str(e))\n",
        "\n",
        "kredi_basvuru_sistemi()"
      ],
      "metadata": {
        "colab": {
          "base_uri": "https://localhost:8080/"
        },
        "id": "kZ-MyPkbi2Gr",
        "outputId": "a813da91-02e2-4e81-cdef-3f1cd15eaab4"
      },
      "execution_count": 15,
      "outputs": [
        {
          "output_type": "stream",
          "name": "stdout",
          "text": [
            "Kredi Başvuru Formu(TCKN, Doğum yılı, Aylık Gelir)\n",
            "\n",
            "TC kimlik numaranızı girin: 12345678910\n",
            "Doğum yılınızı girin: 1998\n",
            "Aylık gelirinizi girin(TL): ellibintürklirası\n",
            "\n",
            " Hata oluştu: \n",
            "Geliriniz pozitif bir sayı olmalıdır.\n",
            "[log] [E103] Gelir doğrulaması başarısız: input=ellibintürklirası\n"
          ]
        }
      ]
    },
    {
      "cell_type": "code",
      "source": [],
      "metadata": {
        "id": "rg0xRDLTre_F"
      },
      "execution_count": null,
      "outputs": []
    }
  ]
}