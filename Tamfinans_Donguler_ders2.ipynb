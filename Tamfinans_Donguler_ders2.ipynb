{
  "nbformat": 4,
  "nbformat_minor": 0,
  "metadata": {
    "colab": {
      "provenance": [],
      "authorship_tag": "ABX9TyOae5sA8xqpuKcSBA8N81ci",
      "include_colab_link": true
    },
    "kernelspec": {
      "name": "python3",
      "display_name": "Python 3"
    },
    "language_info": {
      "name": "python"
    }
  },
  "cells": [
    {
      "cell_type": "markdown",
      "metadata": {
        "id": "view-in-github",
        "colab_type": "text"
      },
      "source": [
        "<a href=\"https://colab.research.google.com/github/canerskrc/Python_Flask_101/blob/main/Tamfinans_Donguler_ders2.ipynb\" target=\"_parent\"><img src=\"https://colab.research.google.com/assets/colab-badge.svg\" alt=\"Open In Colab\"/></a>"
      ]
    },
    {
      "cell_type": "code",
      "execution_count": null,
      "metadata": {
        "colab": {
          "base_uri": "https://localhost:8080/"
        },
        "id": "e_eDDdfXU1wU",
        "outputId": "0b8134ac-2e6b-4cf3-bf92-cf8e7dcdb9b5"
      },
      "outputs": [
        {
          "output_type": "stream",
          "name": "stdout",
          "text": [
            "0 error\n",
            "1 warning\n",
            "2 ok\n"
          ]
        }
      ],
      "source": [
        "data = [ \"error\",\"warning\",\"ok\"]\n",
        "for i in range(len(data)):\n",
        "  print(i, data[i])"
      ]
    },
    {
      "cell_type": "code",
      "source": [
        "for index, value in enumerate(data):\n",
        "  print(f\"[{index}] => {value}\")"
      ],
      "metadata": {
        "colab": {
          "base_uri": "https://localhost:8080/"
        },
        "id": "H_X7MW0HVf7O",
        "outputId": "8686328f-dcc3-4865-8429-0969bbbcfe97"
      },
      "execution_count": null,
      "outputs": [
        {
          "output_type": "stream",
          "name": "stdout",
          "text": [
            "[0] => error\n",
            "[1] => warning\n",
            "[2] => ok\n"
          ]
        }
      ]
    },
    {
      "cell_type": "code",
      "source": [
        "\n",
        "# Data Stream İşlemleri ( Verinin parça parça gelmesi)\n",
        "\n",
        "sensor_readings = [0.51,0.73,0.99,None,1.01,None]\n",
        "\n",
        "for reading in sensor_readings:\n",
        "  if reading is None:\n",
        "    continue\n",
        "  if reading > 1.0:\n",
        "    print(\"Sensor over limit:\", reading)"
      ],
      "metadata": {
        "colab": {
          "base_uri": "https://localhost:8080/"
        },
        "id": "IHQfnn7jV7pe",
        "outputId": "44063796-1fb8-4c77-a95f-bdbd538a8119"
      },
      "execution_count": null,
      "outputs": [
        {
          "output_type": "stream",
          "name": "stdout",
          "text": [
            "Sensor over limit: 1.01\n"
          ]
        }
      ]
    },
    {
      "cell_type": "code",
      "source": [
        "# iki farklı listenin paralel döngüleri\n",
        "\n",
        "user_ids = [101,102,103]\n",
        "\n",
        "last_logins = [\"2024-01-01\",\"2025-03-05\",\"2025-04-09\"]\n",
        "\n",
        "for user, login_date in zip(user_ids, last_logins):\n",
        "  print(f\"Kullanıcı {user} en son {login_date} tarihinde giriş yaptı.\")"
      ],
      "metadata": {
        "colab": {
          "base_uri": "https://localhost:8080/"
        },
        "id": "rJIEIvaAWwf_",
        "outputId": "314d9cff-2e1d-418b-8f9f-87ea132cc13c"
      },
      "execution_count": null,
      "outputs": [
        {
          "output_type": "stream",
          "name": "stdout",
          "text": [
            "Kullanıcı 101 en son 2024-01-01 tarihinde giriş yaptı.\n",
            "Kullanıcı 102 en son 2025-03-05 tarihinde giriş yaptı.\n",
            "Kullanıcı 103 en son 2025-04-09 tarihinde giriş yaptı.\n"
          ]
        }
      ]
    },
    {
      "cell_type": "code",
      "source": [
        "#Orderless Iteration\n",
        "\n",
        "unique_visitors = {\"Ali\",\"Ayşe\",\"Caner\",\"Ali\",\"Ayşe\"}\n",
        "\n",
        "for visitor in unique_visitors:\n",
        "  print(visitor)"
      ],
      "metadata": {
        "colab": {
          "base_uri": "https://localhost:8080/"
        },
        "id": "EGkEbYu0Xo0O",
        "outputId": "102d3f19-4344-4378-8212-ef1c0f5ce4d7"
      },
      "execution_count": null,
      "outputs": [
        {
          "output_type": "stream",
          "name": "stdout",
          "text": [
            "Ayşe\n",
            "Ali\n",
            "Caner\n"
          ]
        }
      ]
    },
    {
      "cell_type": "code",
      "source": [
        "# For-else Kullanımı\n",
        "\n",
        "nums = [1,3,5,7,9]\n",
        "\n",
        "for n in nums:\n",
        "  if n % 2 ==0:\n",
        "    print(\"Çift sayı bulundu.\")\n",
        "    break\n",
        "else:\n",
        "  print(\"Tüm sayılar tektir\")"
      ],
      "metadata": {
        "colab": {
          "base_uri": "https://localhost:8080/"
        },
        "id": "34Jcg_8MYDoW",
        "outputId": "8387b15f-727b-4b94-d3e3-4001655eb6bf"
      },
      "execution_count": null,
      "outputs": [
        {
          "output_type": "stream",
          "name": "stdout",
          "text": [
            "Tüm sayılar tektir\n"
          ]
        }
      ]
    },
    {
      "cell_type": "code",
      "source": [
        "# İterasyonda Veri Değiştirme\n",
        "\n",
        "numbers = [1,2,3,4,5]\n",
        "\n",
        "for x in numbers:\n",
        "  if x % 2 == 0:\n",
        "    numbers.remove(x)\n",
        "print(numbers)"
      ],
      "metadata": {
        "colab": {
          "base_uri": "https://localhost:8080/"
        },
        "id": "Z_yiHNmCYmu2",
        "outputId": "2d0b4a95-edb4-44f4-cb3f-35df4a009134"
      },
      "execution_count": null,
      "outputs": [
        {
          "output_type": "stream",
          "name": "stdout",
          "text": [
            "[1, 3, 5]\n"
          ]
        }
      ]
    },
    {
      "cell_type": "code",
      "source": [
        "numbers = [1,2,3,4,5]\n",
        "filtered =[n for n in numbers if n%2 != 0]"
      ],
      "metadata": {
        "id": "U1B-PxoxZFG2"
      },
      "execution_count": null,
      "outputs": []
    },
    {
      "cell_type": "code",
      "source": [
        "# progressive iteration\n",
        "\n",
        "tasks =[\"initialize\",\"load_data\",\"train_model\"]\n",
        "\n",
        "for i, task in enumerate(tasks):\n",
        "  if i ==0 :\n",
        "    print(\"Başlangıç adımı:\", task)\n",
        "  else:\n",
        "    print(\"İşlem adımı:\",task)"
      ],
      "metadata": {
        "colab": {
          "base_uri": "https://localhost:8080/"
        },
        "id": "5QzR8qwkZUwF",
        "outputId": "903f5ba8-ad17-4573-ef9c-41560e91d43b"
      },
      "execution_count": null,
      "outputs": [
        {
          "output_type": "stream",
          "name": "stdout",
          "text": [
            "Başlangıç adımı: initialize\n",
            "İşlem adımı: load_data\n",
            "İşlem adımı: train_model\n"
          ]
        }
      ]
    },
    {
      "cell_type": "code",
      "source": [],
      "metadata": {
        "id": "bNWJNT_2Z9VW"
      },
      "execution_count": null,
      "outputs": []
    }
  ]
}